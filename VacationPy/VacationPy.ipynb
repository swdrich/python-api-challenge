{
 "cells": [
  {
   "cell_type": "code",
   "execution_count": 2,
   "metadata": {},
   "outputs": [],
   "source": [
    "# Dependencies and Setup\n",
    "import matplotlib.pyplot as plt\n",
    "import pandas as pd\n",
    "import numpy as np\n",
    "import requests\n",
    "import gmaps\n",
    "import os\n",
    "\n",
    "# Import API key\n",
    "from config import gkey"
   ]
  },
  {
   "cell_type": "code",
   "execution_count": 4,
   "metadata": {},
   "outputs": [
    {
     "data": {
      "text/html": [
       "<div>\n",
       "<style scoped>\n",
       "    .dataframe tbody tr th:only-of-type {\n",
       "        vertical-align: middle;\n",
       "    }\n",
       "\n",
       "    .dataframe tbody tr th {\n",
       "        vertical-align: top;\n",
       "    }\n",
       "\n",
       "    .dataframe thead th {\n",
       "        text-align: right;\n",
       "    }\n",
       "</style>\n",
       "<table border=\"1\" class=\"dataframe\">\n",
       "  <thead>\n",
       "    <tr style=\"text-align: right;\">\n",
       "      <th></th>\n",
       "      <th>Cities</th>\n",
       "      <th>Countries</th>\n",
       "      <th>Latitude</th>\n",
       "      <th>Longitude</th>\n",
       "      <th>Max Temperature (F)</th>\n",
       "      <th>Humidity (%)</th>\n",
       "      <th>Cloudiness</th>\n",
       "      <th>Wind Speed (mph)</th>\n",
       "      <th>Date</th>\n",
       "    </tr>\n",
       "  </thead>\n",
       "  <tbody>\n",
       "    <tr>\n",
       "      <th>0</th>\n",
       "      <td>Bakel</td>\n",
       "      <td>SN</td>\n",
       "      <td>14.90</td>\n",
       "      <td>-12.46</td>\n",
       "      <td>72.5</td>\n",
       "      <td>20</td>\n",
       "      <td>80</td>\n",
       "      <td>10.5</td>\n",
       "      <td>02-09-2021</td>\n",
       "    </tr>\n",
       "    <tr>\n",
       "      <th>1</th>\n",
       "      <td>Jamestown</td>\n",
       "      <td>SH</td>\n",
       "      <td>-15.94</td>\n",
       "      <td>-5.72</td>\n",
       "      <td>68.4</td>\n",
       "      <td>88</td>\n",
       "      <td>54</td>\n",
       "      <td>15.0</td>\n",
       "      <td>02-09-2021</td>\n",
       "    </tr>\n",
       "    <tr>\n",
       "      <th>2</th>\n",
       "      <td>Nikolskoye</td>\n",
       "      <td>RU</td>\n",
       "      <td>59.70</td>\n",
       "      <td>30.79</td>\n",
       "      <td>5.0</td>\n",
       "      <td>85</td>\n",
       "      <td>90</td>\n",
       "      <td>2.2</td>\n",
       "      <td>02-09-2021</td>\n",
       "    </tr>\n",
       "    <tr>\n",
       "      <th>3</th>\n",
       "      <td>Arraial Do Cabo</td>\n",
       "      <td>BR</td>\n",
       "      <td>-22.97</td>\n",
       "      <td>-42.03</td>\n",
       "      <td>72.4</td>\n",
       "      <td>73</td>\n",
       "      <td>100</td>\n",
       "      <td>2.1</td>\n",
       "      <td>02-09-2021</td>\n",
       "    </tr>\n",
       "    <tr>\n",
       "      <th>4</th>\n",
       "      <td>Port Hardy</td>\n",
       "      <td>CA</td>\n",
       "      <td>50.70</td>\n",
       "      <td>-127.42</td>\n",
       "      <td>37.4</td>\n",
       "      <td>74</td>\n",
       "      <td>1</td>\n",
       "      <td>8.0</td>\n",
       "      <td>02-09-2021</td>\n",
       "    </tr>\n",
       "  </tbody>\n",
       "</table>\n",
       "</div>"
      ],
      "text/plain": [
       "            Cities Countries  Latitude  Longitude  Max Temperature (F)  \\\n",
       "0            Bakel        SN     14.90     -12.46                 72.5   \n",
       "1        Jamestown        SH    -15.94      -5.72                 68.4   \n",
       "2       Nikolskoye        RU     59.70      30.79                  5.0   \n",
       "3  Arraial Do Cabo        BR    -22.97     -42.03                 72.4   \n",
       "4       Port Hardy        CA     50.70    -127.42                 37.4   \n",
       "\n",
       "   Humidity (%)  Cloudiness  Wind Speed (mph)        Date  \n",
       "0            20          80              10.5  02-09-2021  \n",
       "1            88          54              15.0  02-09-2021  \n",
       "2            85          90               2.2  02-09-2021  \n",
       "3            73         100               2.1  02-09-2021  \n",
       "4            74           1               8.0  02-09-2021  "
      ]
     },
     "execution_count": 4,
     "metadata": {},
     "output_type": "execute_result"
    }
   ],
   "source": [
    "# Store Part I results into DataFrame\n",
    "# Load the csv exported in Part I to a DataFrame\n",
    "\n",
    "cities_path = \"../WeatherPy/cities_weather.csv\"\n",
    "\n",
    "# Read School and Student Data File and store into Pandas DataFrames\n",
    "cities_data = pd.read_csv(cities_path)\n",
    "\n",
    "#Create the dataframe\n",
    "cities_data_df = pd.DataFrame(cities_data)\n",
    "cities_data_df.head()"
   ]
  },
  {
   "cell_type": "code",
   "execution_count": 11,
   "metadata": {},
   "outputs": [],
   "source": [
    "#Humidity Heatmap\n",
    "\n",
    "#Configure gmaps\n",
    "gmaps.configure(api_key=gkey)\n",
    "\n",
    "#Use the Lat and Lng as locations and Humidity as the weight.\n",
    "locations = cities_data_df[[\"Latitude\", \"Longitude\"]]\n",
    "weights = cities_data_df[\"Humidity (%)\"]\n",
    "\n",
    "#Create map\n",
    "figure_layout = {'width': '800px',\n",
    "                 'height': '600px',\n",
    "                 'border': '1px solid black',\n",
    "                 'padding': '1px',\n",
    "                 'margin': '0 auto 0 auto'}\n",
    "\n",
    "fig = gmaps.figure(layout=figure_layout, center=(0,0), zoom_level=1)"
   ]
  },
  {
   "cell_type": "code",
   "execution_count": 12,
   "metadata": {},
   "outputs": [
    {
     "data": {
      "application/vnd.jupyter.widget-view+json": {
       "model_id": "f13e8521c616423da0701d67fc254622",
       "version_major": 2,
       "version_minor": 0
      },
      "text/plain": [
       "Figure(layout=FigureLayout(border='1px solid black', height='600px', margin='0 auto 0 auto', padding='1px', wi…"
      ]
     },
     "metadata": {},
     "output_type": "display_data"
    }
   ],
   "source": [
    "#Add Heatmap layer to map.\n",
    "fig.add_layer(gmaps.heatmap_layer(locations, weights=weights))\n",
    "fig"
   ]
  },
  {
   "cell_type": "code",
   "execution_count": null,
   "metadata": {},
   "outputs": [],
   "source": []
  }
 ],
 "metadata": {
  "kernelspec": {
   "display_name": "Python 3",
   "language": "python",
   "name": "python3"
  },
  "language_info": {
   "codemirror_mode": {
    "name": "ipython",
    "version": 3
   },
   "file_extension": ".py",
   "mimetype": "text/x-python",
   "name": "python",
   "nbconvert_exporter": "python",
   "pygments_lexer": "ipython3",
   "version": "3.6.10"
  }
 },
 "nbformat": 4,
 "nbformat_minor": 4
}
