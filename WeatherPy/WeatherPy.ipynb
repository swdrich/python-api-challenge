{
 "cells": [
  {
   "cell_type": "code",
   "execution_count": 1,
   "metadata": {},
   "outputs": [],
   "source": [
    "# In this example, you'll be creating a Python script to visualize the weather of 500+ cities across the world, \n",
    "# at varying distances from the equator. To accomplish this, you'll be utilizing a simple Python library, \n",
    "# the OpenWeatherMap API, and a little common sense to create a representative model of weather across world cities.\n",
    "# The first requirement is to create a series of scatter plots to showcase the following relationships:\n",
    "\n",
    "# Temperature (F) vs. Latitude\n",
    "# Humidity (%) vs. Latitude\n",
    "# Cloudiness (%) vs. Latitude\n",
    "# Wind Speed (mph) vs. Latitude\n",
    "\n",
    "# After each plot, add a sentence or two explaining what the code is analyzing.\n",
    "# The second requirement is to run linear regression on each relationship. This time, separate the plots \n",
    "# into Northern Hemisphere (greater than or equal to 0 degrees latitude) and Southern Hemisphere (less than 0 \n",
    "# degrees latitude):\n",
    "\n",
    "# Northern Hemisphere - Temperature (F) vs. Latitude\n",
    "# Southern Hemisphere - Temperature (F) vs. Latitude\n",
    "# Northern Hemisphere - Humidity (%) vs. Latitude\n",
    "# Southern Hemisphere - Humidity (%) vs. Latitude\n",
    "# Northern Hemisphere - Cloudiness (%) vs. Latitude\n",
    "# Southern Hemisphere - Cloudiness (%) vs. Latitude\n",
    "# Northern Hemisphere - Wind Speed (mph) vs. Latitude\n",
    "# Southern Hemisphere - Wind Speed (mph) vs. Latitude\n",
    "\n",
    "# After each pair of plots, take the time to explain what the linear regression is modeling. \n",
    "# For example, describe any relationships you notice and any other analysis you may have.\n",
    "# Your final notebook must:\n",
    "\n",
    "# Randomly select at least 500 unique (non-repeat) cities based on latitude and longitude.\n",
    "# Perform a weather check on each of the cities using a series of successive API calls.\n",
    "# Include a print log of each city as it's being processed with the city number and city name.\n",
    "# Save a CSV of all retrieved data and a PNG image for each scatter plot."
   ]
  },
  {
   "cell_type": "code",
   "execution_count": 2,
   "metadata": {},
   "outputs": [],
   "source": [
    "# Import dependencies:\n",
    "\n",
    "import pandas as pd\n",
    "import requests\n",
    "import json\n",
    "import matplotlib.pyplot as plt\n",
    "from scipy.stats import linregress\n",
    "import numpy as np\n",
    "from config import api_key\n",
    "import time   #used for time.sleep"
   ]
  },
  {
   "cell_type": "code",
   "execution_count": 3,
   "metadata": {},
   "outputs": [],
   "source": [
    "# Printed api key to ensure that it imported correctly\n",
    "# print(api_key)"
   ]
  },
  {
   "cell_type": "code",
   "execution_count": 4,
   "metadata": {},
   "outputs": [],
   "source": [
    "# Generate a random list of 500 unique cities with a reasonably even distribution across the globe\n",
    "\n",
    "# Set a range for lat and lng that includes the whole Earth\n",
    "# latitude range is -90 to 90, longitude range is -180 to 180\n",
    "lats = []\n",
    "longs = []\n",
    "\n",
    "lats = np.random.uniform(-90, 90, 1300)\n",
    "longs = np.random.uniform(-180, 180, 1300)\n",
    "\n",
    "#print(lats)\n",
    "#print(longs)"
   ]
  },
  {
   "cell_type": "code",
   "execution_count": 5,
   "metadata": {},
   "outputs": [
    {
     "data": {
      "text/plain": [
       "<zip at 0x1d798115688>"
      ]
     },
     "execution_count": 5,
     "metadata": {},
     "output_type": "execute_result"
    }
   ],
   "source": [
    "# zip lists together to form coordinates\n",
    "lat_long = zip(lats, longs)\n",
    "lat_long"
   ]
  },
  {
   "cell_type": "code",
   "execution_count": 6,
   "metadata": {},
   "outputs": [],
   "source": [
    "#lat_long = pd.DataFrame(lat_long)\n",
    "#lat_long"
   ]
  },
  {
   "cell_type": "code",
   "execution_count": 7,
   "metadata": {},
   "outputs": [
    {
     "name": "stdout",
     "output_type": "stream",
     "text": [
      "541\n",
      "541\n"
     ]
    }
   ],
   "source": [
    "# Use citipy to find cities near coordinates\n",
    "\n",
    "#Import citipy\n",
    "from citipy import citipy\n",
    "\n",
    "cities = []\n",
    "countries = []\n",
    "\n",
    "for lat_long in lat_long:\n",
    "    city = citipy.nearest_city(lat_long[0], lat_long[1]).city_name\n",
    "    country = citipy.nearest_city(lat_long[0], lat_long[1]).country_code\n",
    "    \n",
    "    # If the city is unique, then add it to a our cities list\n",
    "    if city not in cities:\n",
    "        cities.append(city)\n",
    "        countries.append(country)\n",
    "\n",
    "# Print the city count to confirm sufficient count\n",
    "print(len(cities))\n",
    "print(len(countries))"
   ]
  },
  {
   "cell_type": "code",
   "execution_count": 17,
   "metadata": {},
   "outputs": [],
   "source": [
    "cities = [city.title() for city in cities]\n",
    "countries = [country.upper() for country in countries]"
   ]
  },
  {
   "cell_type": "code",
   "execution_count": 18,
   "metadata": {},
   "outputs": [
    {
     "data": {
      "text/html": [
       "<div>\n",
       "<style scoped>\n",
       "    .dataframe tbody tr th:only-of-type {\n",
       "        vertical-align: middle;\n",
       "    }\n",
       "\n",
       "    .dataframe tbody tr th {\n",
       "        vertical-align: top;\n",
       "    }\n",
       "\n",
       "    .dataframe thead th {\n",
       "        text-align: right;\n",
       "    }\n",
       "</style>\n",
       "<table border=\"1\" class=\"dataframe\">\n",
       "  <thead>\n",
       "    <tr style=\"text-align: right;\">\n",
       "      <th></th>\n",
       "      <th>Cities</th>\n",
       "      <th>Countries</th>\n",
       "    </tr>\n",
       "  </thead>\n",
       "  <tbody>\n",
       "    <tr>\n",
       "      <th>0</th>\n",
       "      <td>Mataura</td>\n",
       "      <td>PF</td>\n",
       "    </tr>\n",
       "    <tr>\n",
       "      <th>1</th>\n",
       "      <td>Lorengau</td>\n",
       "      <td>PG</td>\n",
       "    </tr>\n",
       "    <tr>\n",
       "      <th>2</th>\n",
       "      <td>Rikitea</td>\n",
       "      <td>PF</td>\n",
       "    </tr>\n",
       "    <tr>\n",
       "      <th>3</th>\n",
       "      <td>Umm Kaddadah</td>\n",
       "      <td>SD</td>\n",
       "    </tr>\n",
       "    <tr>\n",
       "      <th>4</th>\n",
       "      <td>Olinda</td>\n",
       "      <td>BR</td>\n",
       "    </tr>\n",
       "  </tbody>\n",
       "</table>\n",
       "</div>"
      ],
      "text/plain": [
       "         Cities Countries\n",
       "0       Mataura        PF\n",
       "1      Lorengau        PG\n",
       "2       Rikitea        PF\n",
       "3  Umm Kaddadah        SD\n",
       "4        Olinda        BR"
      ]
     },
     "execution_count": 18,
     "metadata": {},
     "output_type": "execute_result"
    }
   ],
   "source": [
    "# Build dataframe to hold data\n",
    "weather_df = pd.DataFrame({\"Cities\" : cities, \"Countries\" : countries})\n",
    "weather_df.head()"
   ]
  },
  {
   "cell_type": "code",
   "execution_count": 22,
   "metadata": {},
   "outputs": [],
   "source": [
    "# Check for NaNs\n",
    "#weather_df.isnull().sum()"
   ]
  },
  {
   "cell_type": "code",
   "execution_count": 24,
   "metadata": {},
   "outputs": [
    {
     "data": {
      "text/html": [
       "<div>\n",
       "<style scoped>\n",
       "    .dataframe tbody tr th:only-of-type {\n",
       "        vertical-align: middle;\n",
       "    }\n",
       "\n",
       "    .dataframe tbody tr th {\n",
       "        vertical-align: top;\n",
       "    }\n",
       "\n",
       "    .dataframe thead th {\n",
       "        text-align: right;\n",
       "    }\n",
       "</style>\n",
       "<table border=\"1\" class=\"dataframe\">\n",
       "  <thead>\n",
       "    <tr style=\"text-align: right;\">\n",
       "      <th></th>\n",
       "      <th>Cities</th>\n",
       "      <th>Countries</th>\n",
       "      <th>Latitude</th>\n",
       "      <th>Longitude</th>\n",
       "      <th>Temperature (F)</th>\n",
       "      <th>Humidity</th>\n",
       "      <th>Cloudiness</th>\n",
       "      <th>Wind Speed (mph)</th>\n",
       "    </tr>\n",
       "  </thead>\n",
       "  <tbody>\n",
       "    <tr>\n",
       "      <th>0</th>\n",
       "      <td>Mataura</td>\n",
       "      <td>PF</td>\n",
       "      <td></td>\n",
       "      <td></td>\n",
       "      <td></td>\n",
       "      <td></td>\n",
       "      <td></td>\n",
       "      <td></td>\n",
       "    </tr>\n",
       "    <tr>\n",
       "      <th>1</th>\n",
       "      <td>Lorengau</td>\n",
       "      <td>PG</td>\n",
       "      <td></td>\n",
       "      <td></td>\n",
       "      <td></td>\n",
       "      <td></td>\n",
       "      <td></td>\n",
       "      <td></td>\n",
       "    </tr>\n",
       "    <tr>\n",
       "      <th>2</th>\n",
       "      <td>Rikitea</td>\n",
       "      <td>PF</td>\n",
       "      <td></td>\n",
       "      <td></td>\n",
       "      <td></td>\n",
       "      <td></td>\n",
       "      <td></td>\n",
       "      <td></td>\n",
       "    </tr>\n",
       "    <tr>\n",
       "      <th>3</th>\n",
       "      <td>Umm Kaddadah</td>\n",
       "      <td>SD</td>\n",
       "      <td></td>\n",
       "      <td></td>\n",
       "      <td></td>\n",
       "      <td></td>\n",
       "      <td></td>\n",
       "      <td></td>\n",
       "    </tr>\n",
       "    <tr>\n",
       "      <th>4</th>\n",
       "      <td>Olinda</td>\n",
       "      <td>BR</td>\n",
       "      <td></td>\n",
       "      <td></td>\n",
       "      <td></td>\n",
       "      <td></td>\n",
       "      <td></td>\n",
       "      <td></td>\n",
       "    </tr>\n",
       "  </tbody>\n",
       "</table>\n",
       "</div>"
      ],
      "text/plain": [
       "         Cities Countries Latitude Longitude Temperature (F) Humidity  \\\n",
       "0       Mataura        PF                                               \n",
       "1      Lorengau        PG                                               \n",
       "2       Rikitea        PF                                               \n",
       "3  Umm Kaddadah        SD                                               \n",
       "4        Olinda        BR                                               \n",
       "\n",
       "  Cloudiness Wind Speed (mph)  \n",
       "0                              \n",
       "1                              \n",
       "2                              \n",
       "3                              \n",
       "4                              "
      ]
     },
     "execution_count": 24,
     "metadata": {},
     "output_type": "execute_result"
    }
   ],
   "source": [
    "# Add places to hold data for each city\n",
    "\n",
    "weather_df[\"Latitude\"] = \"\"\n",
    "weather_df[\"Longitude\"] = \"\"\n",
    "weather_df[\"Temperature (F)\"] = \"\"\n",
    "weather_df[\"Humidity\"] = \"\"\n",
    "weather_df[\"Cloudiness\"] = \"\"\n",
    "weather_df[\"Wind Speed (mph)\"] = \"\"\n",
    "weather_df.head()"
   ]
  },
  {
   "cell_type": "code",
   "execution_count": 33,
   "metadata": {},
   "outputs": [
    {
     "data": {
      "text/plain": [
       "{'coord': {'lon': -93.2638, 'lat': 44.98},\n",
       " 'weather': [{'id': 800,\n",
       "   'main': 'Clear',\n",
       "   'description': 'clear sky',\n",
       "   'icon': '01n'}],\n",
       " 'base': 'stations',\n",
       " 'main': {'temp': -10.77,\n",
       "  'feels_like': -21.51,\n",
       "  'temp_min': -11.2,\n",
       "  'temp_max': -9.4,\n",
       "  'pressure': 1022,\n",
       "  'humidity': 64},\n",
       " 'visibility': 10000,\n",
       " 'wind': {'speed': 6.91, 'deg': 300},\n",
       " 'clouds': {'all': 1},\n",
       " 'dt': 1612678290,\n",
       " 'sys': {'type': 1,\n",
       "  'id': 4900,\n",
       "  'country': 'US',\n",
       "  'sunrise': 1612704302,\n",
       "  'sunset': 1612740567},\n",
       " 'timezone': -21600,\n",
       " 'id': 5037649,\n",
       " 'name': 'Minneapolis',\n",
       " 'cod': 200}"
      ]
     },
     "execution_count": 33,
     "metadata": {},
     "output_type": "execute_result"
    }
   ],
   "source": [
    "# Use OpenWeather to get weather data for generated list of cities, test on one city\n",
    "\n",
    "base_url = \"http://api.openweathermap.org/data/2.5/weather?\"\n",
    "city_name = \"Minneapolis\"\n",
    "country_code = \"US\"\n",
    "query_url = f\"{base_url}q={city_name},{country_code}&appid={api_key}&units=imperial\"\n",
    "#print(query_url) - test url worked\n",
    "minneapolis_weather = requests.get(query_url).json()\n",
    "minneapolis_weather"
   ]
  },
  {
   "cell_type": "code",
   "execution_count": 34,
   "metadata": {},
   "outputs": [
    {
     "data": {
      "text/plain": [
       "44.98"
      ]
     },
     "execution_count": 34,
     "metadata": {},
     "output_type": "execute_result"
    }
   ],
   "source": [
    "#test get lat\n",
    "minneapolis_weather[\"coord\"][\"lat\"]"
   ]
  },
  {
   "cell_type": "code",
   "execution_count": 35,
   "metadata": {},
   "outputs": [
    {
     "data": {
      "text/plain": [
       "-93.2638"
      ]
     },
     "execution_count": 35,
     "metadata": {},
     "output_type": "execute_result"
    }
   ],
   "source": [
    "#test get long\n",
    "minneapolis_weather[\"coord\"][\"lon\"]"
   ]
  },
  {
   "cell_type": "code",
   "execution_count": 37,
   "metadata": {},
   "outputs": [
    {
     "data": {
      "text/plain": [
       "-10.77"
      ]
     },
     "execution_count": 37,
     "metadata": {},
     "output_type": "execute_result"
    }
   ],
   "source": [
    "#test get temp\n",
    "minneapolis_weather[\"main\"][\"temp\"]"
   ]
  },
  {
   "cell_type": "code",
   "execution_count": 40,
   "metadata": {},
   "outputs": [
    {
     "data": {
      "text/plain": [
       "64"
      ]
     },
     "execution_count": 40,
     "metadata": {},
     "output_type": "execute_result"
    }
   ],
   "source": [
    "#test get humidity\n",
    "minneapolis_weather[\"main\"][\"humidity\"]"
   ]
  },
  {
   "cell_type": "code",
   "execution_count": 46,
   "metadata": {},
   "outputs": [
    {
     "data": {
      "text/plain": [
       "1"
      ]
     },
     "execution_count": 46,
     "metadata": {},
     "output_type": "execute_result"
    }
   ],
   "source": [
    "#test get cloudiness\n",
    "minneapolis_weather[\"clouds\"][\"all\"]\n",
    "#cloudiness exists on a scale documented at https://openweathermap.org/weather-conditions"
   ]
  },
  {
   "cell_type": "code",
   "execution_count": 49,
   "metadata": {},
   "outputs": [
    {
     "data": {
      "text/plain": [
       "6.91"
      ]
     },
     "execution_count": 49,
     "metadata": {},
     "output_type": "execute_result"
    }
   ],
   "source": [
    "#test get windspeed\n",
    "minneapolis_weather[\"wind\"][\"speed\"]"
   ]
  },
  {
   "cell_type": "code",
   "execution_count": 27,
   "metadata": {},
   "outputs": [],
   "source": [
    "my_params = {\"key\" : api_key, \"units\" : imperial}\n",
    "\n",
    "for index, row in weather_df.iterrows():\n",
    "    base_url = \"http://api.openweathermap.org/data/2.5/weather?\"\n",
    "    city = row[\"Cities\"]\n",
    "    country = row[\"Countries\"]\n",
    "    \n",
    "    my_params[city_name] = city\n",
    "    my_params[country_code] = country\n",
    "    \n",
    "    #make request\n",
    "    cities_weather = requests.get(base_url, params=my_params)\n",
    "    time.sleep(1)\n",
    "    "
   ]
  },
  {
   "cell_type": "code",
   "execution_count": null,
   "metadata": {},
   "outputs": [],
   "source": []
  }
 ],
 "metadata": {
  "kernelspec": {
   "display_name": "Python 3",
   "language": "python",
   "name": "python3"
  },
  "language_info": {
   "codemirror_mode": {
    "name": "ipython",
    "version": 3
   },
   "file_extension": ".py",
   "mimetype": "text/x-python",
   "name": "python",
   "nbconvert_exporter": "python",
   "pygments_lexer": "ipython3",
   "version": "3.6.10"
  }
 },
 "nbformat": 4,
 "nbformat_minor": 4
}
