{
 "cells": [
  {
   "cell_type": "markdown",
   "metadata": {},
   "source": [
    "# Add Titles and introductory info here"
   ]
  },
  {
   "cell_type": "markdown",
   "metadata": {},
   "source": [
    "## Collect Data:"
   ]
  },
  {
   "cell_type": "code",
   "execution_count": 1,
   "metadata": {},
   "outputs": [],
   "source": [
    "# Import dependencies:\n",
    "\n",
    "import pandas as pd\n",
    "import requests\n",
    "import json\n",
    "import matplotlib.pyplot as plt\n",
    "from scipy.stats import linregress\n",
    "import numpy as np\n",
    "from config import api_key\n",
    "import time   #used for time.sleep"
   ]
  },
  {
   "cell_type": "code",
   "execution_count": 2,
   "metadata": {},
   "outputs": [],
   "source": [
    "# Generate a random list of 500 unique cities with a reasonably even distribution across the globe\n",
    "\n",
    "# Set a range for lat and lng that includes the whole Earth\n",
    "# latitude range is -90 to 90, longitude range is -180 to 180\n",
    "lats = []\n",
    "longs = []\n",
    "\n",
    "lats = np.random.uniform(-90, 90, 100)\n",
    "longs = np.random.uniform(-180, 180, 100)\n",
    "\n",
    "#print(lats)\n",
    "#print(longs)"
   ]
  },
  {
   "cell_type": "code",
   "execution_count": 4,
   "metadata": {},
   "outputs": [],
   "source": [
    "# zip lists together to form coordinates\n",
    "lat_long = zip(lats, longs)"
   ]
  },
  {
   "cell_type": "code",
   "execution_count": 5,
   "metadata": {},
   "outputs": [
    {
     "name": "stdout",
     "output_type": "stream",
     "text": [
      "81\n",
      "81\n"
     ]
    }
   ],
   "source": [
    "# Use citipy to find cities near coordinates\n",
    "\n",
    "#Import citipy\n",
    "from citipy import citipy\n",
    "\n",
    "cities = []\n",
    "countries = []\n",
    "\n",
    "for lat_long in lat_long:\n",
    "    city = citipy.nearest_city(lat_long[0], lat_long[1]).city_name\n",
    "    country = citipy.nearest_city(lat_long[0], lat_long[1]).country_code\n",
    "    \n",
    "    # If the city is unique, then add it to a our cities list\n",
    "    if city not in cities:\n",
    "        cities.append(city)\n",
    "        countries.append(country)\n",
    "\n",
    "# Print the city count to confirm sufficient count\n",
    "print(len(cities))\n",
    "print(len(countries))"
   ]
  },
  {
   "cell_type": "code",
   "execution_count": 6,
   "metadata": {},
   "outputs": [],
   "source": [
    "# Format data for improved legibility\n",
    "cities = [city.title() for city in cities]\n",
    "countries = [country.upper() for country in countries]"
   ]
  },
  {
   "cell_type": "code",
   "execution_count": 7,
   "metadata": {},
   "outputs": [
    {
     "data": {
      "text/html": [
       "<div>\n",
       "<style scoped>\n",
       "    .dataframe tbody tr th:only-of-type {\n",
       "        vertical-align: middle;\n",
       "    }\n",
       "\n",
       "    .dataframe tbody tr th {\n",
       "        vertical-align: top;\n",
       "    }\n",
       "\n",
       "    .dataframe thead th {\n",
       "        text-align: right;\n",
       "    }\n",
       "</style>\n",
       "<table border=\"1\" class=\"dataframe\">\n",
       "  <thead>\n",
       "    <tr style=\"text-align: right;\">\n",
       "      <th></th>\n",
       "      <th>Cities</th>\n",
       "      <th>Countries</th>\n",
       "    </tr>\n",
       "  </thead>\n",
       "  <tbody>\n",
       "    <tr>\n",
       "      <th>0</th>\n",
       "      <td>Ngukurr</td>\n",
       "      <td>AU</td>\n",
       "    </tr>\n",
       "    <tr>\n",
       "      <th>1</th>\n",
       "      <td>Ulundurpettai</td>\n",
       "      <td>IN</td>\n",
       "    </tr>\n",
       "    <tr>\n",
       "      <th>2</th>\n",
       "      <td>Chokurdakh</td>\n",
       "      <td>RU</td>\n",
       "    </tr>\n",
       "    <tr>\n",
       "      <th>3</th>\n",
       "      <td>Cockburn Town</td>\n",
       "      <td>BS</td>\n",
       "    </tr>\n",
       "    <tr>\n",
       "      <th>4</th>\n",
       "      <td>Biltine</td>\n",
       "      <td>TD</td>\n",
       "    </tr>\n",
       "  </tbody>\n",
       "</table>\n",
       "</div>"
      ],
      "text/plain": [
       "          Cities Countries\n",
       "0        Ngukurr        AU\n",
       "1  Ulundurpettai        IN\n",
       "2     Chokurdakh        RU\n",
       "3  Cockburn Town        BS\n",
       "4        Biltine        TD"
      ]
     },
     "execution_count": 7,
     "metadata": {},
     "output_type": "execute_result"
    }
   ],
   "source": [
    "# Build dataframe to hold data\n",
    "weather_df = pd.DataFrame({\"Cities\" : cities, \"Countries\" : countries})\n",
    "weather_df.head()"
   ]
  },
  {
   "cell_type": "code",
   "execution_count": 8,
   "metadata": {},
   "outputs": [
    {
     "data": {
      "text/plain": [
       "Cities       0\n",
       "Countries    0\n",
       "dtype: int64"
      ]
     },
     "execution_count": 8,
     "metadata": {},
     "output_type": "execute_result"
    }
   ],
   "source": [
    "# Check for NaNs\n",
    "weather_df.isnull().sum()"
   ]
  },
  {
   "cell_type": "code",
   "execution_count": 9,
   "metadata": {},
   "outputs": [
    {
     "data": {
      "text/html": [
       "<div>\n",
       "<style scoped>\n",
       "    .dataframe tbody tr th:only-of-type {\n",
       "        vertical-align: middle;\n",
       "    }\n",
       "\n",
       "    .dataframe tbody tr th {\n",
       "        vertical-align: top;\n",
       "    }\n",
       "\n",
       "    .dataframe thead th {\n",
       "        text-align: right;\n",
       "    }\n",
       "</style>\n",
       "<table border=\"1\" class=\"dataframe\">\n",
       "  <thead>\n",
       "    <tr style=\"text-align: right;\">\n",
       "      <th></th>\n",
       "      <th>Cities</th>\n",
       "      <th>Countries</th>\n",
       "      <th>Latitude</th>\n",
       "      <th>Longitude</th>\n",
       "      <th>Max Temperature (F)</th>\n",
       "      <th>Humidity (%)</th>\n",
       "      <th>Cloudiness</th>\n",
       "      <th>Wind Speed (mph)</th>\n",
       "      <th>Date</th>\n",
       "    </tr>\n",
       "  </thead>\n",
       "  <tbody>\n",
       "    <tr>\n",
       "      <th>0</th>\n",
       "      <td>Ngukurr</td>\n",
       "      <td>AU</td>\n",
       "      <td></td>\n",
       "      <td></td>\n",
       "      <td></td>\n",
       "      <td></td>\n",
       "      <td></td>\n",
       "      <td></td>\n",
       "      <td></td>\n",
       "    </tr>\n",
       "    <tr>\n",
       "      <th>1</th>\n",
       "      <td>Ulundurpettai</td>\n",
       "      <td>IN</td>\n",
       "      <td></td>\n",
       "      <td></td>\n",
       "      <td></td>\n",
       "      <td></td>\n",
       "      <td></td>\n",
       "      <td></td>\n",
       "      <td></td>\n",
       "    </tr>\n",
       "    <tr>\n",
       "      <th>2</th>\n",
       "      <td>Chokurdakh</td>\n",
       "      <td>RU</td>\n",
       "      <td></td>\n",
       "      <td></td>\n",
       "      <td></td>\n",
       "      <td></td>\n",
       "      <td></td>\n",
       "      <td></td>\n",
       "      <td></td>\n",
       "    </tr>\n",
       "    <tr>\n",
       "      <th>3</th>\n",
       "      <td>Cockburn Town</td>\n",
       "      <td>BS</td>\n",
       "      <td></td>\n",
       "      <td></td>\n",
       "      <td></td>\n",
       "      <td></td>\n",
       "      <td></td>\n",
       "      <td></td>\n",
       "      <td></td>\n",
       "    </tr>\n",
       "    <tr>\n",
       "      <th>4</th>\n",
       "      <td>Biltine</td>\n",
       "      <td>TD</td>\n",
       "      <td></td>\n",
       "      <td></td>\n",
       "      <td></td>\n",
       "      <td></td>\n",
       "      <td></td>\n",
       "      <td></td>\n",
       "      <td></td>\n",
       "    </tr>\n",
       "  </tbody>\n",
       "</table>\n",
       "</div>"
      ],
      "text/plain": [
       "          Cities Countries Latitude Longitude Max Temperature (F)  \\\n",
       "0        Ngukurr        AU                                          \n",
       "1  Ulundurpettai        IN                                          \n",
       "2     Chokurdakh        RU                                          \n",
       "3  Cockburn Town        BS                                          \n",
       "4        Biltine        TD                                          \n",
       "\n",
       "  Humidity (%) Cloudiness Wind Speed (mph) Date  \n",
       "0                                                \n",
       "1                                                \n",
       "2                                                \n",
       "3                                                \n",
       "4                                                "
      ]
     },
     "execution_count": 9,
     "metadata": {},
     "output_type": "execute_result"
    }
   ],
   "source": [
    "# Add places to hold data for each city\n",
    "\n",
    "weather_df[\"Latitude\"] = \"\"\n",
    "weather_df[\"Longitude\"] = \"\"\n",
    "weather_df[\"Max Temperature (F)\"] = \"\"\n",
    "weather_df[\"Humidity (%)\"] = \"\"\n",
    "weather_df[\"Cloudiness\"] = \"\"\n",
    "weather_df[\"Wind Speed (mph)\"] = \"\"\n",
    "weather_df[\"Date\"] = \"\"\n",
    "weather_df.head()"
   ]
  },
  {
   "cell_type": "code",
   "execution_count": 10,
   "metadata": {},
   "outputs": [],
   "source": [
    "# Use OpenWeather to get weather data for generated list of cities, test on one city\n",
    "\n",
    "base_url = \"http://api.openweathermap.org/data/2.5/weather?\"\n",
    "city_name = \"Minneapolis\"\n",
    "country_code = \"US\"\n",
    "query_url = f\"{base_url}q={city_name},{country_code}&appid={api_key}&units=imperial\"\n",
    "#print(query_url) - test url worked\n",
    "#minneapolis_weather = requests.get(query_url).json()\n",
    "#minneapolis_weather"
   ]
  },
  {
   "cell_type": "code",
   "execution_count": 11,
   "metadata": {
    "scrolled": true
   },
   "outputs": [
    {
     "name": "stdout",
     "output_type": "stream",
     "text": [
      "0 Ngukurr\n",
      "skip\n",
      "1 Ulundurpettai\n",
      "skip\n",
      "2 Chokurdakh\n",
      "3 Cockburn Town\n",
      "4 Biltine\n",
      "5 Rikitea\n",
      "6 Lavrentiya\n",
      "7 Sitka\n",
      "8 Vaini\n",
      "9 Nanortalik\n",
      "10 Brae\n",
      "11 Kapaa\n",
      "12 Kisesa\n",
      "13 Barentsburg\n",
      "skip\n",
      "14 Albany\n",
      "15 Hermanus\n",
      "16 Saskylakh\n",
      "17 Aguimes\n",
      "18 Dikson\n",
      "19 Butaritari\n",
      "20 Guerrero Negro\n",
      "21 Ostrovnoy\n",
      "22 Ribeira Grande\n",
      "23 Mataura\n",
      "skip\n",
      "24 Busselton\n",
      "25 Ushuaia\n",
      "26 Baykit\n",
      "27 East London\n",
      "28 Cap Malheureux\n",
      "29 Marv Dasht\n",
      "skip\n",
      "30 Russellville\n",
      "31 Provideniya\n",
      "32 Portree\n",
      "33 Nikolskoye\n",
      "34 Bluff\n",
      "35 Porto Santo\n",
      "36 Ancud\n",
      "37 Jamestown\n",
      "38 Upernavik\n",
      "39 Wanning\n",
      "40 Salym\n",
      "41 Atikokan\n",
      "42 Airai\n",
      "skip\n",
      "43 Margate\n",
      "44 Roanoke Rapids\n",
      "45 Punta Arenas\n",
      "46 Mackay\n",
      "47 Puerto Ayora\n",
      "48 Nizhneyansk\n",
      "skip\n",
      "49 Tazovskiy\n",
      "50 Severo-Kurilsk\n",
      "51 Balakhninskiy\n",
      "52 Agadez\n",
      "53 Shamsabad\n",
      "54 Lazaro Cardenas\n",
      "55 Erenhot\n",
      "56 Khasan\n",
      "57 Vaitupu\n",
      "skip\n",
      "58 Grand River South East\n",
      "skip\n",
      "59 Roald\n",
      "60 Prince Rupert\n",
      "61 Bredasdorp\n",
      "62 Tuktoyaktuk\n",
      "63 Grindavik\n",
      "64 Kalmunai\n",
      "65 Vila Velha\n",
      "66 Georgetown\n",
      "67 Sakakah\n",
      "68 Coihaique\n",
      "69 Faya\n",
      "skip\n",
      "70 Illoqqortoormiut\n",
      "skip\n",
      "71 Victoria\n",
      "72 Intipuca\n",
      "73 Araouane\n",
      "74 Taltal\n",
      "75 Vila Franca Do Campo\n",
      "76 Verkhnedneprovskiy\n",
      "77 Vardo\n",
      "78 Erzin\n",
      "79 Hualmay\n",
      "80 New Norfolk\n"
     ]
    }
   ],
   "source": [
    "# Build a for loop to use the city names to call the OpenWeather API\n",
    "# Test to ensure that the city has data, otherwise skip\n",
    "# Generate a print log for each city as it is being processed\n",
    "\n",
    "my_params = {\"appid\" : api_key, \"units\" : \"imperial\"}\n",
    "\n",
    "for index, row in weather_df.iterrows():\n",
    "    base_url = \"http://api.openweathermap.org/data/2.5/weather?\"\n",
    "    city = row[\"Cities\"]\n",
    "    country = row[\"Countries\"]\n",
    "    \n",
    "    my_params['q'] = f'{city},{country}'\n",
    "    \n",
    "    #make request\n",
    "    cities_weather = requests.get(base_url, params=my_params).json()\n",
    "    print(index, city)\n",
    "    try:\n",
    "        weather_df.loc[index, \"Latitude\"] = cities_weather[\"coord\"][\"lat\"]\n",
    "    except KeyError:\n",
    "        weather_df.loc[index, \"Latitude\"] = np.nan\n",
    "        print(\"skip\")\n",
    "        continue\n",
    "       \n",
    "    weather_df.loc[index, \"Longitude\"] = cities_weather[\"coord\"][\"lon\"]\n",
    "    weather_df.loc[index, \"Max Temperature (F)\"] = cities_weather[\"main\"][\"temp_max\"]\n",
    "    weather_df.loc[index, \"Humidity (%)\"] = cities_weather[\"main\"][\"humidity\"]\n",
    "    weather_df.loc[index, \"Cloudiness\"] = cities_weather[\"clouds\"][\"all\"]\n",
    "    weather_df.loc[index, \"Wind Speed (mph)\"] = cities_weather[\"wind\"][\"speed\"]\n",
    "    weather_df.loc[index, \"Date\"] = cities_weather[\"dt\"]\n",
    "    \n",
    "    time.sleep(1)\n",
    "        "
   ]
  },
  {
   "cell_type": "code",
   "execution_count": 12,
   "metadata": {},
   "outputs": [
    {
     "data": {
      "text/plain": [
       "70"
      ]
     },
     "execution_count": 12,
     "metadata": {},
     "output_type": "execute_result"
    }
   ],
   "source": [
    "#Drop rows with missing values\n",
    "weather_df.dropna(inplace=True)\n",
    "weather_df.reset_index(drop=True, inplace=True)\n",
    "len(weather_df)"
   ]
  },
  {
   "cell_type": "code",
   "execution_count": 15,
   "metadata": {},
   "outputs": [
    {
     "data": {
      "text/plain": [
       "100"
      ]
     },
     "execution_count": 15,
     "metadata": {},
     "output_type": "execute_result"
    }
   ],
   "source": [
    "# Check for humidity outliers\n",
    "weather_df[\"Humidity (%)\"].max()"
   ]
  },
  {
   "cell_type": "code",
   "execution_count": 16,
   "metadata": {},
   "outputs": [
    {
     "data": {
      "text/html": [
       "<div>\n",
       "<style scoped>\n",
       "    .dataframe tbody tr th:only-of-type {\n",
       "        vertical-align: middle;\n",
       "    }\n",
       "\n",
       "    .dataframe tbody tr th {\n",
       "        vertical-align: top;\n",
       "    }\n",
       "\n",
       "    .dataframe thead th {\n",
       "        text-align: right;\n",
       "    }\n",
       "</style>\n",
       "<table border=\"1\" class=\"dataframe\">\n",
       "  <thead>\n",
       "    <tr style=\"text-align: right;\">\n",
       "      <th></th>\n",
       "      <th>Cities</th>\n",
       "      <th>Countries</th>\n",
       "      <th>Latitude</th>\n",
       "      <th>Longitude</th>\n",
       "      <th>Max Temperature (F)</th>\n",
       "      <th>Humidity (%)</th>\n",
       "      <th>Cloudiness</th>\n",
       "      <th>Wind Speed (mph)</th>\n",
       "      <th>Date</th>\n",
       "    </tr>\n",
       "  </thead>\n",
       "  <tbody>\n",
       "    <tr>\n",
       "      <th>0</th>\n",
       "      <td>Chokurdakh</td>\n",
       "      <td>RU</td>\n",
       "      <td>70.6333</td>\n",
       "      <td>147.917</td>\n",
       "      <td>-12.51</td>\n",
       "      <td>86</td>\n",
       "      <td>0</td>\n",
       "      <td>10.16</td>\n",
       "      <td>1612831065</td>\n",
       "    </tr>\n",
       "    <tr>\n",
       "      <th>1</th>\n",
       "      <td>Cockburn Town</td>\n",
       "      <td>BS</td>\n",
       "      <td>24.0333</td>\n",
       "      <td>-74.5167</td>\n",
       "      <td>77</td>\n",
       "      <td>83</td>\n",
       "      <td>0</td>\n",
       "      <td>16.02</td>\n",
       "      <td>1612831066</td>\n",
       "    </tr>\n",
       "    <tr>\n",
       "      <th>2</th>\n",
       "      <td>Biltine</td>\n",
       "      <td>TD</td>\n",
       "      <td>14.5333</td>\n",
       "      <td>20.9167</td>\n",
       "      <td>65.21</td>\n",
       "      <td>24</td>\n",
       "      <td>46</td>\n",
       "      <td>13.62</td>\n",
       "      <td>1612830897</td>\n",
       "    </tr>\n",
       "    <tr>\n",
       "      <th>3</th>\n",
       "      <td>Rikitea</td>\n",
       "      <td>PF</td>\n",
       "      <td>-23.1203</td>\n",
       "      <td>-134.969</td>\n",
       "      <td>77.97</td>\n",
       "      <td>69</td>\n",
       "      <td>18</td>\n",
       "      <td>3.22</td>\n",
       "      <td>1612831068</td>\n",
       "    </tr>\n",
       "    <tr>\n",
       "      <th>4</th>\n",
       "      <td>Lavrentiya</td>\n",
       "      <td>RU</td>\n",
       "      <td>65.5833</td>\n",
       "      <td>-171</td>\n",
       "      <td>-3.73</td>\n",
       "      <td>84</td>\n",
       "      <td>100</td>\n",
       "      <td>11.12</td>\n",
       "      <td>1612831069</td>\n",
       "    </tr>\n",
       "  </tbody>\n",
       "</table>\n",
       "</div>"
      ],
      "text/plain": [
       "          Cities Countries Latitude Longitude Max Temperature (F)  \\\n",
       "0     Chokurdakh        RU  70.6333   147.917              -12.51   \n",
       "1  Cockburn Town        BS  24.0333  -74.5167                  77   \n",
       "2        Biltine        TD  14.5333   20.9167               65.21   \n",
       "3        Rikitea        PF -23.1203  -134.969               77.97   \n",
       "4     Lavrentiya        RU  65.5833      -171               -3.73   \n",
       "\n",
       "  Humidity (%) Cloudiness Wind Speed (mph)        Date  \n",
       "0           86          0            10.16  1612831065  \n",
       "1           83          0            16.02  1612831066  \n",
       "2           24         46            13.62  1612830897  \n",
       "3           69         18             3.22  1612831068  \n",
       "4           84        100            11.12  1612831069  "
      ]
     },
     "execution_count": 16,
     "metadata": {},
     "output_type": "execute_result"
    }
   ],
   "source": [
    "weather_df.head()"
   ]
  },
  {
   "cell_type": "code",
   "execution_count": 17,
   "metadata": {},
   "outputs": [
    {
     "data": {
      "text/html": [
       "<div>\n",
       "<style scoped>\n",
       "    .dataframe tbody tr th:only-of-type {\n",
       "        vertical-align: middle;\n",
       "    }\n",
       "\n",
       "    .dataframe tbody tr th {\n",
       "        vertical-align: top;\n",
       "    }\n",
       "\n",
       "    .dataframe thead th {\n",
       "        text-align: right;\n",
       "    }\n",
       "</style>\n",
       "<table border=\"1\" class=\"dataframe\">\n",
       "  <thead>\n",
       "    <tr style=\"text-align: right;\">\n",
       "      <th></th>\n",
       "      <th>Cities</th>\n",
       "      <th>Countries</th>\n",
       "      <th>Latitude</th>\n",
       "      <th>Longitude</th>\n",
       "      <th>Max Temperature (F)</th>\n",
       "      <th>Humidity (%)</th>\n",
       "      <th>Cloudiness</th>\n",
       "      <th>Wind Speed (mph)</th>\n",
       "      <th>Date</th>\n",
       "    </tr>\n",
       "  </thead>\n",
       "  <tbody>\n",
       "    <tr>\n",
       "      <th>0</th>\n",
       "      <td>Chokurdakh</td>\n",
       "      <td>RU</td>\n",
       "      <td>70.63</td>\n",
       "      <td>147.92</td>\n",
       "      <td>-12.5</td>\n",
       "      <td>86</td>\n",
       "      <td>0</td>\n",
       "      <td>10.2</td>\n",
       "      <td>1612831065</td>\n",
       "    </tr>\n",
       "    <tr>\n",
       "      <th>1</th>\n",
       "      <td>Cockburn Town</td>\n",
       "      <td>BS</td>\n",
       "      <td>24.03</td>\n",
       "      <td>-74.52</td>\n",
       "      <td>77.0</td>\n",
       "      <td>83</td>\n",
       "      <td>0</td>\n",
       "      <td>16.0</td>\n",
       "      <td>1612831066</td>\n",
       "    </tr>\n",
       "    <tr>\n",
       "      <th>2</th>\n",
       "      <td>Biltine</td>\n",
       "      <td>TD</td>\n",
       "      <td>14.53</td>\n",
       "      <td>20.92</td>\n",
       "      <td>65.2</td>\n",
       "      <td>24</td>\n",
       "      <td>46</td>\n",
       "      <td>13.6</td>\n",
       "      <td>1612830897</td>\n",
       "    </tr>\n",
       "    <tr>\n",
       "      <th>3</th>\n",
       "      <td>Rikitea</td>\n",
       "      <td>PF</td>\n",
       "      <td>-23.12</td>\n",
       "      <td>-134.97</td>\n",
       "      <td>78.0</td>\n",
       "      <td>69</td>\n",
       "      <td>18</td>\n",
       "      <td>3.2</td>\n",
       "      <td>1612831068</td>\n",
       "    </tr>\n",
       "    <tr>\n",
       "      <th>4</th>\n",
       "      <td>Lavrentiya</td>\n",
       "      <td>RU</td>\n",
       "      <td>65.58</td>\n",
       "      <td>-171.00</td>\n",
       "      <td>-3.7</td>\n",
       "      <td>84</td>\n",
       "      <td>100</td>\n",
       "      <td>11.1</td>\n",
       "      <td>1612831069</td>\n",
       "    </tr>\n",
       "  </tbody>\n",
       "</table>\n",
       "</div>"
      ],
      "text/plain": [
       "          Cities Countries  Latitude  Longitude  Max Temperature (F)  \\\n",
       "0     Chokurdakh        RU     70.63     147.92                -12.5   \n",
       "1  Cockburn Town        BS     24.03     -74.52                 77.0   \n",
       "2        Biltine        TD     14.53      20.92                 65.2   \n",
       "3        Rikitea        PF    -23.12    -134.97                 78.0   \n",
       "4     Lavrentiya        RU     65.58    -171.00                 -3.7   \n",
       "\n",
       "   Humidity (%)  Cloudiness  Wind Speed (mph)        Date  \n",
       "0            86           0              10.2  1612831065  \n",
       "1            83           0              16.0  1612831066  \n",
       "2            24          46              13.6  1612830897  \n",
       "3            69          18               3.2  1612831068  \n",
       "4            84         100              11.1  1612831069  "
      ]
     },
     "execution_count": 17,
     "metadata": {},
     "output_type": "execute_result"
    }
   ],
   "source": [
    "#Clean up formatting\n",
    "weather_df = weather_df.convert_dtypes()\n",
    "weather_df = weather_df.round({\"Latitude\": 2,\"Longitude\": 2, \"Max Temperature (F)\": 1, \"Wind Speed (mph)\": 1})\n",
    "weather_df.head()"
   ]
  },
  {
   "cell_type": "code",
   "execution_count": 18,
   "metadata": {},
   "outputs": [],
   "source": [
    "# Save a CSV file containing all weather data\n",
    "\n",
    "weather_df.to_csv(\"cities_weather.csv\", encoding='utf-8', index=False)"
   ]
  },
  {
   "cell_type": "code",
   "execution_count": 19,
   "metadata": {},
   "outputs": [
    {
     "data": {
      "image/png": "[encoded data removed]",
      "text/plain": [
       "<Figure size 432x288 with 1 Axes>"
      ]
     },
     "metadata": {
      "needs_background": "light"
     },
     "output_type": "display_data"
    }
   ],
   "source": [
    "# Make a scatter plot to show relationship of temperature v latitude\n",
    "\n",
    "x = weather_df[\"Latitude\"]\n",
    "y = weather_df[\"Max Temperature (F)\"]\n",
    "\n",
    "temp_plt = plt.scatter(x, y, marker=\"o\")\n",
    "\n",
    "plt.show()\n",
    "\n",
    "# Save plot as a PNG file"
   ]
  },
  {
   "cell_type": "markdown",
   "metadata": {},
   "source": [
    "## After each plot, add a sentence or two explaining what the code is analyzing."
   ]
  },
  {
   "cell_type": "code",
   "execution_count": 20,
   "metadata": {},
   "outputs": [
    {
     "data": {
      "image/png": "[encoded data removed]",
      "text/plain": [
       "<Figure size 432x288 with 1 Axes>"
      ]
     },
     "metadata": {
      "needs_background": "light"
     },
     "output_type": "display_data"
    }
   ],
   "source": [
    "# Make a scatter plot to show the relationship of humidity v latitude\n",
    "\n",
    "x = weather_df[\"Latitude\"]\n",
    "y = weather_df[\"Humidity (%)\"]\n",
    "\n",
    "temp_plt = plt.scatter(x, y, marker=\"o\")\n",
    "\n",
    "plt.show()\n",
    "\n",
    "# Save plot as a PNG file"
   ]
  },
  {
   "cell_type": "markdown",
   "metadata": {},
   "source": [
    "## After each plot, add a sentence or two explaining what the code is analyzing."
   ]
  },
  {
   "cell_type": "code",
   "execution_count": 21,
   "metadata": {},
   "outputs": [
    {
     "data": {
      "image/png": "[encoded data removed]",
      "text/plain": [
       "<Figure size 432x288 with 1 Axes>"
      ]
     },
     "metadata": {
      "needs_background": "light"
     },
     "output_type": "display_data"
    }
   ],
   "source": [
    "# Make a scatter plot to show the relationship of cloudiness v latitude\n",
    "\n",
    "x = weather_df[\"Latitude\"]\n",
    "y = weather_df[\"Cloudiness\"]\n",
    "\n",
    "temp_plt = plt.scatter(x, y, marker=\"o\")\n",
    "\n",
    "plt.show()\n",
    "\n",
    "# Save plot as a PNG file"
   ]
  },
  {
   "cell_type": "markdown",
   "metadata": {},
   "source": [
    "## After each plot, add a sentence or two explaining what the code is analyzing."
   ]
  },
  {
   "cell_type": "code",
   "execution_count": 22,
   "metadata": {
    "scrolled": true
   },
   "outputs": [
    {
     "data": {
      "image/png": "[encoded data removed]",
      "text/plain": [
       "<Figure size 432x288 with 1 Axes>"
      ]
     },
     "metadata": {
      "needs_background": "light"
     },
     "output_type": "display_data"
    }
   ],
   "source": [
    "# Make a scatter plot to show the relationship of wind speed v latitude\n",
    "\n",
    "x = weather_df[\"Latitude\"]\n",
    "y = weather_df[\"Wind Speed (mph)\"]\n",
    "\n",
    "temp_plt = plt.scatter(x, y, marker=\"o\")\n",
    "\n",
    "plt.show()\n",
    "\n",
    "# Save plot as a PNG file"
   ]
  },
  {
   "cell_type": "markdown",
   "metadata": {},
   "source": [
    "## After each plot, add a sentence or two explaining what the code is analyzing."
   ]
  },
  {
   "cell_type": "code",
   "execution_count": 23,
   "metadata": {},
   "outputs": [],
   "source": [
    "# The second requirement is to run linear regression on each relationship. This time, separate the plots \n",
    "# into Northern Hemisphere (greater than or equal to 0 degrees latitude) and Southern Hemisphere (less than 0 \n",
    "# degrees latitude):"
   ]
  },
  {
   "cell_type": "code",
   "execution_count": 24,
   "metadata": {},
   "outputs": [],
   "source": [
    "# Study data files\n"
   ]
  },
  {
   "cell_type": "code",
   "execution_count": 25,
   "metadata": {},
   "outputs": [
    {
     "data": {
      "text/html": [
       "<div>\n",
       "<style scoped>\n",
       "    .dataframe tbody tr th:only-of-type {\n",
       "        vertical-align: middle;\n",
       "    }\n",
       "\n",
       "    .dataframe tbody tr th {\n",
       "        vertical-align: top;\n",
       "    }\n",
       "\n",
       "    .dataframe thead th {\n",
       "        text-align: right;\n",
       "    }\n",
       "</style>\n",
       "<table border=\"1\" class=\"dataframe\">\n",
       "  <thead>\n",
       "    <tr style=\"text-align: right;\">\n",
       "      <th></th>\n",
       "      <th>Cities</th>\n",
       "      <th>Countries</th>\n",
       "      <th>Latitude</th>\n",
       "      <th>Longitude</th>\n",
       "      <th>Max Temperature (F)</th>\n",
       "      <th>Humidity (%)</th>\n",
       "      <th>Cloudiness</th>\n",
       "      <th>Wind Speed (mph)</th>\n",
       "      <th>Date</th>\n",
       "      <th>Hemisphere</th>\n",
       "    </tr>\n",
       "  </thead>\n",
       "  <tbody>\n",
       "    <tr>\n",
       "      <th>0</th>\n",
       "      <td>Chokurdakh</td>\n",
       "      <td>RU</td>\n",
       "      <td>70.63</td>\n",
       "      <td>147.92</td>\n",
       "      <td>-12.5</td>\n",
       "      <td>86</td>\n",
       "      <td>0</td>\n",
       "      <td>10.2</td>\n",
       "      <td>1612831065</td>\n",
       "      <td>north</td>\n",
       "    </tr>\n",
       "    <tr>\n",
       "      <th>1</th>\n",
       "      <td>Cockburn Town</td>\n",
       "      <td>BS</td>\n",
       "      <td>24.03</td>\n",
       "      <td>-74.52</td>\n",
       "      <td>77.0</td>\n",
       "      <td>83</td>\n",
       "      <td>0</td>\n",
       "      <td>16.0</td>\n",
       "      <td>1612831066</td>\n",
       "      <td>north</td>\n",
       "    </tr>\n",
       "    <tr>\n",
       "      <th>2</th>\n",
       "      <td>Biltine</td>\n",
       "      <td>TD</td>\n",
       "      <td>14.53</td>\n",
       "      <td>20.92</td>\n",
       "      <td>65.2</td>\n",
       "      <td>24</td>\n",
       "      <td>46</td>\n",
       "      <td>13.6</td>\n",
       "      <td>1612830897</td>\n",
       "      <td>north</td>\n",
       "    </tr>\n",
       "    <tr>\n",
       "      <th>3</th>\n",
       "      <td>Rikitea</td>\n",
       "      <td>PF</td>\n",
       "      <td>-23.12</td>\n",
       "      <td>-134.97</td>\n",
       "      <td>78.0</td>\n",
       "      <td>69</td>\n",
       "      <td>18</td>\n",
       "      <td>3.2</td>\n",
       "      <td>1612831068</td>\n",
       "      <td>south</td>\n",
       "    </tr>\n",
       "    <tr>\n",
       "      <th>4</th>\n",
       "      <td>Lavrentiya</td>\n",
       "      <td>RU</td>\n",
       "      <td>65.58</td>\n",
       "      <td>-171.00</td>\n",
       "      <td>-3.7</td>\n",
       "      <td>84</td>\n",
       "      <td>100</td>\n",
       "      <td>11.1</td>\n",
       "      <td>1612831069</td>\n",
       "      <td>north</td>\n",
       "    </tr>\n",
       "    <tr>\n",
       "      <th>...</th>\n",
       "      <td>...</td>\n",
       "      <td>...</td>\n",
       "      <td>...</td>\n",
       "      <td>...</td>\n",
       "      <td>...</td>\n",
       "      <td>...</td>\n",
       "      <td>...</td>\n",
       "      <td>...</td>\n",
       "      <td>...</td>\n",
       "      <td>...</td>\n",
       "    </tr>\n",
       "    <tr>\n",
       "      <th>65</th>\n",
       "      <td>Verkhnedneprovskiy</td>\n",
       "      <td>RU</td>\n",
       "      <td>54.98</td>\n",
       "      <td>33.35</td>\n",
       "      <td>5.1</td>\n",
       "      <td>94</td>\n",
       "      <td>100</td>\n",
       "      <td>9.0</td>\n",
       "      <td>1612831141</td>\n",
       "      <td>north</td>\n",
       "    </tr>\n",
       "    <tr>\n",
       "      <th>66</th>\n",
       "      <td>Vardo</td>\n",
       "      <td>NO</td>\n",
       "      <td>70.37</td>\n",
       "      <td>31.11</td>\n",
       "      <td>24.2</td>\n",
       "      <td>91</td>\n",
       "      <td>100</td>\n",
       "      <td>20.6</td>\n",
       "      <td>1612831142</td>\n",
       "      <td>north</td>\n",
       "    </tr>\n",
       "    <tr>\n",
       "      <th>67</th>\n",
       "      <td>Erzin</td>\n",
       "      <td>RU</td>\n",
       "      <td>50.26</td>\n",
       "      <td>95.16</td>\n",
       "      <td>7.6</td>\n",
       "      <td>89</td>\n",
       "      <td>100</td>\n",
       "      <td>5.7</td>\n",
       "      <td>1612831143</td>\n",
       "      <td>north</td>\n",
       "    </tr>\n",
       "    <tr>\n",
       "      <th>68</th>\n",
       "      <td>Hualmay</td>\n",
       "      <td>PE</td>\n",
       "      <td>-11.10</td>\n",
       "      <td>-77.61</td>\n",
       "      <td>71.5</td>\n",
       "      <td>81</td>\n",
       "      <td>100</td>\n",
       "      <td>9.4</td>\n",
       "      <td>1612831144</td>\n",
       "      <td>south</td>\n",
       "    </tr>\n",
       "    <tr>\n",
       "      <th>69</th>\n",
       "      <td>New Norfolk</td>\n",
       "      <td>AU</td>\n",
       "      <td>-42.78</td>\n",
       "      <td>147.06</td>\n",
       "      <td>62.0</td>\n",
       "      <td>58</td>\n",
       "      <td>100</td>\n",
       "      <td>1.0</td>\n",
       "      <td>1612831145</td>\n",
       "      <td>south</td>\n",
       "    </tr>\n",
       "  </tbody>\n",
       "</table>\n",
       "<p>70 rows × 10 columns</p>\n",
       "</div>"
      ],
      "text/plain": [
       "                Cities Countries  Latitude  Longitude  Max Temperature (F)  \\\n",
       "0           Chokurdakh        RU     70.63     147.92                -12.5   \n",
       "1        Cockburn Town        BS     24.03     -74.52                 77.0   \n",
       "2              Biltine        TD     14.53      20.92                 65.2   \n",
       "3              Rikitea        PF    -23.12    -134.97                 78.0   \n",
       "4           Lavrentiya        RU     65.58    -171.00                 -3.7   \n",
       "..                 ...       ...       ...        ...                  ...   \n",
       "65  Verkhnedneprovskiy        RU     54.98      33.35                  5.1   \n",
       "66               Vardo        NO     70.37      31.11                 24.2   \n",
       "67               Erzin        RU     50.26      95.16                  7.6   \n",
       "68             Hualmay        PE    -11.10     -77.61                 71.5   \n",
       "69         New Norfolk        AU    -42.78     147.06                 62.0   \n",
       "\n",
       "    Humidity (%)  Cloudiness  Wind Speed (mph)        Date Hemisphere  \n",
       "0             86           0              10.2  1612831065      north  \n",
       "1             83           0              16.0  1612831066      north  \n",
       "2             24          46              13.6  1612830897      north  \n",
       "3             69          18               3.2  1612831068      south  \n",
       "4             84         100              11.1  1612831069      north  \n",
       "..           ...         ...               ...         ...        ...  \n",
       "65            94         100               9.0  1612831141      north  \n",
       "66            91         100              20.6  1612831142      north  \n",
       "67            89         100               5.7  1612831143      north  \n",
       "68            81         100               9.4  1612831144      south  \n",
       "69            58         100               1.0  1612831145      south  \n",
       "\n",
       "[70 rows x 10 columns]"
      ]
     },
     "execution_count": 25,
     "metadata": {},
     "output_type": "execute_result"
    }
   ],
   "source": [
    "# Create bins and bin data\n",
    "\n",
    "bins = [-90, 0, 90]\n",
    "labels = [\"south\", \"north\"]\n",
    "weather_df[\"Hemisphere\"] = pd.cut(weather_df[\"Latitude\"], bins=bins, labels=labels)\n",
    "weather_df"
   ]
  },
  {
   "cell_type": "code",
   "execution_count": 27,
   "metadata": {},
   "outputs": [
    {
     "data": {
      "text/html": [
       "<div>\n",
       "<style scoped>\n",
       "    .dataframe tbody tr th:only-of-type {\n",
       "        vertical-align: middle;\n",
       "    }\n",
       "\n",
       "    .dataframe tbody tr th {\n",
       "        vertical-align: top;\n",
       "    }\n",
       "\n",
       "    .dataframe thead th {\n",
       "        text-align: right;\n",
       "    }\n",
       "</style>\n",
       "<table border=\"1\" class=\"dataframe\">\n",
       "  <thead>\n",
       "    <tr style=\"text-align: right;\">\n",
       "      <th></th>\n",
       "      <th>Cities</th>\n",
       "      <th>Countries</th>\n",
       "      <th>Latitude</th>\n",
       "      <th>Longitude</th>\n",
       "      <th>Max Temperature (F)</th>\n",
       "      <th>Humidity (%)</th>\n",
       "      <th>Cloudiness</th>\n",
       "      <th>Wind Speed (mph)</th>\n",
       "      <th>Date</th>\n",
       "      <th>Hemisphere</th>\n",
       "    </tr>\n",
       "  </thead>\n",
       "  <tbody>\n",
       "    <tr>\n",
       "      <th>0</th>\n",
       "      <td>Chokurdakh</td>\n",
       "      <td>RU</td>\n",
       "      <td>70.63</td>\n",
       "      <td>147.92</td>\n",
       "      <td>-12.5</td>\n",
       "      <td>86</td>\n",
       "      <td>0</td>\n",
       "      <td>10.2</td>\n",
       "      <td>1612831065</td>\n",
       "      <td>north</td>\n",
       "    </tr>\n",
       "    <tr>\n",
       "      <th>1</th>\n",
       "      <td>Cockburn Town</td>\n",
       "      <td>BS</td>\n",
       "      <td>24.03</td>\n",
       "      <td>-74.52</td>\n",
       "      <td>77.0</td>\n",
       "      <td>83</td>\n",
       "      <td>0</td>\n",
       "      <td>16.0</td>\n",
       "      <td>1612831066</td>\n",
       "      <td>north</td>\n",
       "    </tr>\n",
       "    <tr>\n",
       "      <th>2</th>\n",
       "      <td>Biltine</td>\n",
       "      <td>TD</td>\n",
       "      <td>14.53</td>\n",
       "      <td>20.92</td>\n",
       "      <td>65.2</td>\n",
       "      <td>24</td>\n",
       "      <td>46</td>\n",
       "      <td>13.6</td>\n",
       "      <td>1612830897</td>\n",
       "      <td>north</td>\n",
       "    </tr>\n",
       "    <tr>\n",
       "      <th>3</th>\n",
       "      <td>Lavrentiya</td>\n",
       "      <td>RU</td>\n",
       "      <td>65.58</td>\n",
       "      <td>-171.00</td>\n",
       "      <td>-3.7</td>\n",
       "      <td>84</td>\n",
       "      <td>100</td>\n",
       "      <td>11.1</td>\n",
       "      <td>1612831069</td>\n",
       "      <td>north</td>\n",
       "    </tr>\n",
       "    <tr>\n",
       "      <th>4</th>\n",
       "      <td>Sitka</td>\n",
       "      <td>US</td>\n",
       "      <td>57.05</td>\n",
       "      <td>-135.33</td>\n",
       "      <td>23.0</td>\n",
       "      <td>58</td>\n",
       "      <td>90</td>\n",
       "      <td>11.5</td>\n",
       "      <td>1612831070</td>\n",
       "      <td>north</td>\n",
       "    </tr>\n",
       "  </tbody>\n",
       "</table>\n",
       "</div>"
      ],
      "text/plain": [
       "          Cities Countries  Latitude  Longitude  Max Temperature (F)  \\\n",
       "0     Chokurdakh        RU     70.63     147.92                -12.5   \n",
       "1  Cockburn Town        BS     24.03     -74.52                 77.0   \n",
       "2        Biltine        TD     14.53      20.92                 65.2   \n",
       "3     Lavrentiya        RU     65.58    -171.00                 -3.7   \n",
       "4          Sitka        US     57.05    -135.33                 23.0   \n",
       "\n",
       "   Humidity (%)  Cloudiness  Wind Speed (mph)        Date Hemisphere  \n",
       "0            86           0              10.2  1612831065      north  \n",
       "1            83           0              16.0  1612831066      north  \n",
       "2            24          46              13.6  1612830897      north  \n",
       "3            84         100              11.1  1612831069      north  \n",
       "4            58          90              11.5  1612831070      north  "
      ]
     },
     "execution_count": 27,
     "metadata": {},
     "output_type": "execute_result"
    }
   ],
   "source": [
    "# Split data into two frames, one for each hemisphere\n",
    "\n",
    "weather_north_df = weather_df.loc[weather_df[\"Latitude\"] > 0]\n",
    "weather_north_df.reset_index(inplace=True, drop=True)\n",
    "weather_north_df.head()"
   ]
  },
  {
   "cell_type": "code",
   "execution_count": 29,
   "metadata": {},
   "outputs": [
    {
     "data": {
      "text/html": [
       "<div>\n",
       "<style scoped>\n",
       "    .dataframe tbody tr th:only-of-type {\n",
       "        vertical-align: middle;\n",
       "    }\n",
       "\n",
       "    .dataframe tbody tr th {\n",
       "        vertical-align: top;\n",
       "    }\n",
       "\n",
       "    .dataframe thead th {\n",
       "        text-align: right;\n",
       "    }\n",
       "</style>\n",
       "<table border=\"1\" class=\"dataframe\">\n",
       "  <thead>\n",
       "    <tr style=\"text-align: right;\">\n",
       "      <th></th>\n",
       "      <th>Cities</th>\n",
       "      <th>Countries</th>\n",
       "      <th>Latitude</th>\n",
       "      <th>Longitude</th>\n",
       "      <th>Max Temperature (F)</th>\n",
       "      <th>Humidity (%)</th>\n",
       "      <th>Cloudiness</th>\n",
       "      <th>Wind Speed (mph)</th>\n",
       "      <th>Date</th>\n",
       "      <th>Hemisphere</th>\n",
       "    </tr>\n",
       "  </thead>\n",
       "  <tbody>\n",
       "    <tr>\n",
       "      <th>0</th>\n",
       "      <td>Rikitea</td>\n",
       "      <td>PF</td>\n",
       "      <td>-23.12</td>\n",
       "      <td>-134.97</td>\n",
       "      <td>78.0</td>\n",
       "      <td>69</td>\n",
       "      <td>18</td>\n",
       "      <td>3.2</td>\n",
       "      <td>1612831068</td>\n",
       "      <td>south</td>\n",
       "    </tr>\n",
       "    <tr>\n",
       "      <th>1</th>\n",
       "      <td>Vaini</td>\n",
       "      <td>TO</td>\n",
       "      <td>-21.20</td>\n",
       "      <td>-175.20</td>\n",
       "      <td>77.0</td>\n",
       "      <td>94</td>\n",
       "      <td>75</td>\n",
       "      <td>16.1</td>\n",
       "      <td>1612831071</td>\n",
       "      <td>south</td>\n",
       "    </tr>\n",
       "    <tr>\n",
       "      <th>2</th>\n",
       "      <td>Kisesa</td>\n",
       "      <td>TZ</td>\n",
       "      <td>-3.08</td>\n",
       "      <td>34.15</td>\n",
       "      <td>65.3</td>\n",
       "      <td>86</td>\n",
       "      <td>100</td>\n",
       "      <td>6.6</td>\n",
       "      <td>1612830851</td>\n",
       "      <td>south</td>\n",
       "    </tr>\n",
       "    <tr>\n",
       "      <th>3</th>\n",
       "      <td>Albany</td>\n",
       "      <td>AU</td>\n",
       "      <td>-35.02</td>\n",
       "      <td>117.89</td>\n",
       "      <td>66.2</td>\n",
       "      <td>77</td>\n",
       "      <td>3</td>\n",
       "      <td>15.0</td>\n",
       "      <td>1612831077</td>\n",
       "      <td>south</td>\n",
       "    </tr>\n",
       "    <tr>\n",
       "      <th>4</th>\n",
       "      <td>Hermanus</td>\n",
       "      <td>ZA</td>\n",
       "      <td>-34.42</td>\n",
       "      <td>19.23</td>\n",
       "      <td>60.0</td>\n",
       "      <td>92</td>\n",
       "      <td>10</td>\n",
       "      <td>5.6</td>\n",
       "      <td>1612831078</td>\n",
       "      <td>south</td>\n",
       "    </tr>\n",
       "  </tbody>\n",
       "</table>\n",
       "</div>"
      ],
      "text/plain": [
       "     Cities Countries  Latitude  Longitude  Max Temperature (F)  Humidity (%)  \\\n",
       "0   Rikitea        PF    -23.12    -134.97                 78.0            69   \n",
       "1     Vaini        TO    -21.20    -175.20                 77.0            94   \n",
       "2    Kisesa        TZ     -3.08      34.15                 65.3            86   \n",
       "3    Albany        AU    -35.02     117.89                 66.2            77   \n",
       "4  Hermanus        ZA    -34.42      19.23                 60.0            92   \n",
       "\n",
       "   Cloudiness  Wind Speed (mph)        Date Hemisphere  \n",
       "0          18               3.2  1612831068      south  \n",
       "1          75              16.1  1612831071      south  \n",
       "2         100               6.6  1612830851      south  \n",
       "3           3              15.0  1612831077      south  \n",
       "4          10               5.6  1612831078      south  "
      ]
     },
     "execution_count": 29,
     "metadata": {},
     "output_type": "execute_result"
    }
   ],
   "source": [
    "# Same for southern hemisphere\n",
    "\n",
    "weather_south_df = weather_df.loc[weather_df[\"Hemisphere\"] == \"south\"]\n",
    "weather_south_df.reset_index(inplace=True, drop=True)\n",
    "weather_south_df.head()"
   ]
  },
  {
   "cell_type": "code",
   "execution_count": 30,
   "metadata": {
    "scrolled": true
   },
   "outputs": [
    {
     "name": "stdout",
     "output_type": "stream",
     "text": [
      "y=-1.39x + 94.12\n"
     ]
    }
   ],
   "source": [
    "# Northern Hemisphere - Temperature (F) vs. Latitude\n",
    "# Southern Hemisphere - Temperature (F) vs. Latitude\n",
    "\n",
    "# define values for northern hemisphere\n",
    "xn = weather_north_df[\"Latitude\"]\n",
    "yn = weather_north_df[\"Max Temperature (F)\"]\n",
    "\n",
    "#calculate regression\n",
    "(slope_n, intercept_n, rvalue_n, pvalue_n, stderr_n) = linregress(xn, yn)\n",
    "regress_n = xn * slope_n + intercept_n\n",
    "line_eq_n = \"y=\" + str(round(slope_n,2)) + \"x + \" + str(round(intercept_n,2))\n",
    "print(line_eq_n)"
   ]
  },
  {
   "cell_type": "code",
   "execution_count": 31,
   "metadata": {},
   "outputs": [
    {
     "name": "stdout",
     "output_type": "stream",
     "text": [
      "y=0.26x + 77.15\n"
     ]
    }
   ],
   "source": [
    "#define values for southern hemisphere\n",
    "xs = weather_south_df[\"Latitude\"]\n",
    "ys = weather_south_df[\"Max Temperature (F)\"]\n",
    "\n",
    "#calculate regression\n",
    "(slope_s, intercept_s, rvalue_s, pvalue_s, stderr_s) = linregress(xs, ys)\n",
    "regress_s = xs * slope_s + intercept_s\n",
    "line_eq_s = \"y=\" + str(round(slope_s,2)) + \"x + \" + str(round(intercept_s,2))\n",
    "print(line_eq_s)"
   ]
  },
  {
   "cell_type": "code",
   "execution_count": 32,
   "metadata": {},
   "outputs": [
    {
     "data": {
      "image/png": "[encoded data removed]",
      "text/plain": [
       "<Figure size 864x432 with 2 Axes>"
      ]
     },
     "metadata": {
      "needs_background": "light"
     },
     "output_type": "display_data"
    }
   ],
   "source": [
    "fig, (ax1, ax2) = plt.subplots(1, 2, sharey=True, figsize=(12,6))\n",
    "fig.suptitle('Max Temperature vs Latitude in the Southern and Northern Hemispheres')\n",
    "ax1.scatter(xs, ys)\n",
    "ax1.set_xlim(left=-90, right=0)\n",
    "ax1.set_title(\"Southern Hemisphere\")\n",
    "ax1.set(xlabel= \"Degree of Latitude\", ylabel=\"Temperature in Degrees (F)\")\n",
    "ax1.plot(xs, regress_s, color='red', linewidth=2)\n",
    "ax1.annotate(line_eq_s, (-60,40), fontsize=15, color=\"red\")\n",
    "ax2.scatter(xn, yn)\n",
    "ax2.set_xlim(left=0, right=90)\n",
    "ax2.set_title(\"Northern Hemisphere\")\n",
    "ax2.set(xlabel= \"Degree of Latitude\", ylabel=\"Temperature in Degrees (F)\")\n",
    "ax2.plot(xn, regress_n, color=\"red\", linewidth=2)\n",
    "ax2.annotate(line_eq_n, (10,0), fontsize=15, color=\"red\")\n",
    "plt.show()"
   ]
  },
  {
   "cell_type": "code",
   "execution_count": 35,
   "metadata": {},
   "outputs": [
    {
     "name": "stdout",
     "output_type": "stream",
     "text": [
      "The r-value of the southern hemisphere is 0.48417594447572254 and the r-value of the northern hemisphere is -0.8687631610127396.\n"
     ]
    }
   ],
   "source": [
    "print(f'The r-value of the southern hemisphere is {(rvalue_s)} and the r-value of the northern hemisphere is {rvalue_n}.')"
   ]
  },
  {
   "cell_type": "code",
   "execution_count": 36,
   "metadata": {},
   "outputs": [
    {
     "name": "stdout",
     "output_type": "stream",
     "text": [
      "y=0.34x + 62.19\n"
     ]
    }
   ],
   "source": [
    "# Northern Hemisphere - Humidity (%) vs. Latitude\n",
    "# Southern Hemisphere - Humidity (%) vs. Latitude\n",
    "\n",
    "xn2 = weather_north_df[\"Latitude\"]\n",
    "yn2 = weather_north_df[\"Humidity (%)\"].astype(int)\n",
    "\n",
    "#calculate regression\n",
    "(slope_n2, intercept_n2, rvalue_n2, pvalue_n2, stderr_n2) = linregress(xn2, yn2)\n",
    "regress_n2 = xn2 * slope_n2 + intercept_n2\n",
    "line_eq_n2 = \"y=\" + str(round(slope_n2,2)) + \"x + \" + str(round(intercept_n2,2))\n",
    "print(line_eq_n2)"
   ]
  },
  {
   "cell_type": "code",
   "execution_count": 37,
   "metadata": {},
   "outputs": [
    {
     "name": "stdout",
     "output_type": "stream",
     "text": [
      "y=0.59x + 94.52\n"
     ]
    }
   ],
   "source": [
    "xs2 = weather_south_df[\"Latitude\"]\n",
    "ys2 = weather_south_df[\"Humidity (%)\"].astype(int)\n",
    "\n",
    "#calculate regression\n",
    "(slope_s2, intercept_s2, rvalue_s2, pvalue_s2, stderr_s2) = linregress(xs2, ys2)\n",
    "regress_s2 = xs2 * slope_s2 + intercept_s2\n",
    "line_eq_s2 = \"y=\" + str(round(slope_s2,2)) + \"x + \" + str(round(intercept_s2,2))\n",
    "print(line_eq_s2)"
   ]
  },
  {
   "cell_type": "code",
   "execution_count": 38,
   "metadata": {},
   "outputs": [
    {
     "data": {
      "image/png": "[encoded data removed]",
      "text/plain": [
       "<Figure size 864x432 with 2 Axes>"
      ]
     },
     "metadata": {
      "needs_background": "light"
     },
     "output_type": "display_data"
    }
   ],
   "source": [
    "fig, (ax1, ax2) = plt.subplots(1, 2, sharey=True, figsize=(12,6))\n",
    "fig.suptitle('Humidity vs Latitude in the Southern and Northern Hemispheres')\n",
    "ax1.scatter(xs2, ys2)\n",
    "ax1.set_xlim(left=-90, right=0)\n",
    "ax1.set_title(\"Southern Hemisphere\")\n",
    "ax1.set(xlabel= \"Degree of Latitude\", ylabel=\"Humidity (%)\")\n",
    "ax1.plot(xs2, regress_s2, color='red', linewidth=2)\n",
    "ax1.annotate(line_eq_s2, (-60,40), fontsize=15, color=\"red\")\n",
    "ax2.scatter(xn2, yn2)\n",
    "ax2.set_xlim(left=0, right=90)\n",
    "ax2.set_title(\"Northern Hemisphere\")\n",
    "ax2.set(xlabel= \"Degree of Latitude\", ylabel=\"Humidity (%)\")\n",
    "ax2.plot(xn2, regress_n2, color=\"red\", linewidth=2)\n",
    "ax2.annotate(line_eq_n2, (40,40), fontsize=15, color=\"red\")\n",
    "plt.show()"
   ]
  },
  {
   "cell_type": "code",
   "execution_count": 45,
   "metadata": {},
   "outputs": [
    {
     "name": "stdout",
     "output_type": "stream",
     "text": [
      "The r-value of the southern hemisphere is 0.5481350604511703 and the r-value of the northern hemisphere is 0.39195545495639705.\n"
     ]
    }
   ],
   "source": [
    "print(f'The r-value of the southern hemisphere is {(rvalue_s2)} and the r-value of the northern hemisphere is {rvalue_n2}.')"
   ]
  },
  {
   "cell_type": "code",
   "execution_count": 39,
   "metadata": {},
   "outputs": [
    {
     "name": "stdout",
     "output_type": "stream",
     "text": [
      "y=0.08x + 53.28\n"
     ]
    }
   ],
   "source": [
    "# Northern Hemisphere - Cloudiness (%) vs. Latitude\n",
    "# Southern Hemisphere - Cloudiness (%) vs. Latitude\n",
    "\n",
    "# define values for northern hemisphere\n",
    "xn3 = weather_north_df[\"Latitude\"]\n",
    "yn3 = weather_north_df[\"Cloudiness\"].astype(int)\n",
    "\n",
    "#calculate regression\n",
    "(slope_n3, intercept_n3, rvalue_n3, pvalue_n3, stderr_n3) = linregress(xn3, yn3)\n",
    "regress_n3 = xn3 * slope_n3 + intercept_n3\n",
    "line_eq_n3 = \"y=\" + str(round(slope_n3,2)) + \"x + \" + str(round(intercept_n3,2))\n",
    "print(line_eq_n3)"
   ]
  },
  {
   "cell_type": "code",
   "execution_count": 40,
   "metadata": {},
   "outputs": [
    {
     "name": "stdout",
     "output_type": "stream",
     "text": [
      "y=1.05x + 82.2\n"
     ]
    }
   ],
   "source": [
    "#define values for southern hemisphere\n",
    "xs3 = weather_south_df[\"Latitude\"]\n",
    "ys3 = weather_south_df[\"Cloudiness\"].astype(int)\n",
    "\n",
    "#calculate regression\n",
    "(slope_s3, intercept_s3, rvalue_s3, pvalue_s3, stderr_s3) = linregress(xs3, ys3)\n",
    "regress_s3 = xs3 * slope_s3 + intercept_s3\n",
    "line_eq_s3 = \"y=\" + str(round(slope_s3,2)) + \"x + \" + str(round(intercept_s3,2))\n",
    "print(line_eq_s3)"
   ]
  },
  {
   "cell_type": "code",
   "execution_count": 41,
   "metadata": {},
   "outputs": [
    {
     "data": {
      "image/png": "[encoded data removed]",
      "text/plain": [
       "<Figure size 864x432 with 2 Axes>"
      ]
     },
     "metadata": {
      "needs_background": "light"
     },
     "output_type": "display_data"
    }
   ],
   "source": [
    "fig, (ax1, ax2) = plt.subplots(1, 2, sharey=True, figsize=(12,6))\n",
    "fig.suptitle('Cloud Cover vs Latitude in the Southern and Northern Hemispheres')\n",
    "ax1.scatter(xs3, ys3)\n",
    "ax1.set_xlim(left=-90, right=0)\n",
    "ax1.set_title(\"Southern Hemisphere\")\n",
    "ax1.set(xlabel= \"Degree of Latitude\", ylabel=\"Cloudiness\")\n",
    "ax1.plot(xs3, regress_s3, color='red', linewidth=2)\n",
    "ax1.annotate(line_eq_s3, (-80,60), fontsize=15, color=\"red\")\n",
    "ax2.scatter(xn3, yn3)\n",
    "ax2.set_xlim(left=0, right=90)\n",
    "ax2.set_title(\"Northern Hemisphere\")\n",
    "ax2.set(xlabel= \"Degree of Latitude\", ylabel=\"Cloudiness\")\n",
    "ax2.plot(xn3, regress_n3, color=\"red\", linewidth=2)\n",
    "ax2.annotate(line_eq_n3, (40,20), fontsize=15, color=\"red\")\n",
    "plt.show()"
   ]
  },
  {
   "cell_type": "code",
   "execution_count": null,
   "metadata": {},
   "outputs": [],
   "source": [
    "print(f'The r-value of the southern hemisphere is {(rvalue_s3)} and the r-value of the northern hemisphere is {rvalue_n3}.')"
   ]
  },
  {
   "cell_type": "code",
   "execution_count": 42,
   "metadata": {},
   "outputs": [
    {
     "name": "stdout",
     "output_type": "stream",
     "text": [
      "y=-0.02x + 9.92\n"
     ]
    }
   ],
   "source": [
    "# Northern Hemisphere - Wind Speed (mph) vs. Latitude\n",
    "# Southern Hemisphere - Wind Speed (mph) vs. Latitude\n",
    "\n",
    "# define values for northern hemisphere\n",
    "xn4 = weather_north_df[\"Latitude\"]\n",
    "yn4 = weather_north_df[\"Wind Speed (mph)\"]\n",
    "\n",
    "#calculate regression\n",
    "(slope_n4, intercept_n4, rvalue_n4, pvalue_n4, stderr_n4) = linregress(xn4, yn4)\n",
    "regress_n4 = xn4 * slope_n4 + intercept_n4\n",
    "line_eq_n4 = \"y=\" + str(round(slope_n4,2)) + \"x + \" + str(round(intercept_n4,2))\n",
    "print(line_eq_n4)"
   ]
  },
  {
   "cell_type": "code",
   "execution_count": 43,
   "metadata": {},
   "outputs": [
    {
     "name": "stdout",
     "output_type": "stream",
     "text": [
      "y=0.26x + 77.15\n"
     ]
    }
   ],
   "source": [
    "#define values for southern hemisphere\n",
    "xs4 = weather_south_df[\"Latitude\"]\n",
    "ys4 = weather_south_df[\"Max Temperature (F)\"]\n",
    "\n",
    "#calculate regression\n",
    "(slope_s4, intercept_s4, rvalue_s4, pvalue_s4, stderr_s4) = linregress(xs4, ys4)\n",
    "regress_s4 = xs4 * slope_s4 + intercept_s4\n",
    "line_eq_s4 = \"y=\" + str(round(slope_s4,2)) + \"x + \" + str(round(intercept_s4,2))\n",
    "print(line_eq_s4)"
   ]
  },
  {
   "cell_type": "code",
   "execution_count": 44,
   "metadata": {},
   "outputs": [
    {
     "data": {
      "image/png": "[encoded data removed]",
      "text/plain": [
       "<Figure size 864x432 with 2 Axes>"
      ]
     },
     "metadata": {
      "needs_background": "light"
     },
     "output_type": "display_data"
    }
   ],
   "source": [
    "fig, (ax1, ax2) = plt.subplots(1, 2, sharey=True, figsize=(12,6))\n",
    "fig.suptitle('Wind Speed vs Latitude in the Southern and Northern Hemispheres')\n",
    "ax1.scatter(xs4, ys4)\n",
    "ax1.set_xlim(left=-90, right=0)\n",
    "ax1.set_title(\"Southern Hemisphere\")\n",
    "ax1.set(xlabel=\"Degree of Latitude\", ylabel=\"Wind Speed (mph)\")\n",
    "ax1.plot(xs4, regress_s4, color='red', linewidth=2)\n",
    "ax1.annotate(line_eq_s4, (-60,40), fontsize=15, color=\"red\")\n",
    "ax2.scatter(xn4, yn4)\n",
    "ax2.set_xlim(left=0, right=90)\n",
    "ax2.set_title(\"Northern Hemisphere\")\n",
    "ax2.set(xlabel= \"Degree of Latitude\", ylabel=\"Wind Speed (mph)\")\n",
    "ax2.plot(xn4, regress_n4, color=\"red\", linewidth=2)\n",
    "ax2.annotate(line_eq_n4, (10,0), fontsize=15, color=\"red\")\n",
    "plt.show()"
   ]
  },
  {
   "cell_type": "code",
   "execution_count": 46,
   "metadata": {},
   "outputs": [
    {
     "name": "stdout",
     "output_type": "stream",
     "text": [
      "The r-value of the southern hemisphere is 0.48417594447572254 and the r-value of the northern hemisphere is -0.08843548923208791.\n"
     ]
    }
   ],
   "source": [
    "print(f'The r-value of the southern hemisphere is {(rvalue_s4)} and the r-value of the northern hemisphere is {rvalue_n4}.')"
   ]
  },
  {
   "cell_type": "code",
   "execution_count": null,
   "metadata": {},
   "outputs": [],
   "source": [
    "# After each pair of plots, take the time to explain what the linear regression is modeling. \n",
    "# For example, describe any relationships you notice and any other analysis you may have."
   ]
  }
 ],
 "metadata": {
  "kernelspec": {
   "display_name": "Python 3",
   "language": "python",
   "name": "python3"
  },
  "language_info": {
   "codemirror_mode": {
    "name": "ipython",
    "version": 3
   },
   "file_extension": ".py",
   "mimetype": "text/x-python",
   "name": "python",
   "nbconvert_exporter": "python",
   "pygments_lexer": "ipython3",
   "version": "3.6.10"
  }
 },
 "nbformat": 4,
 "nbformat_minor": 4
}
