{
 "cells": [
  {
   "cell_type": "markdown",
   "metadata": {},
   "source": [
    "# Add Titles and introductory info here"
   ]
  },
  {
   "cell_type": "markdown",
   "metadata": {},
   "source": [
    "## Collect Data:"
   ]
  },
  {
   "cell_type": "code",
   "execution_count": 1,
   "metadata": {},
   "outputs": [],
   "source": [
    "# Import dependencies:\n",
    "\n",
    "import pandas as pd\n",
    "import requests\n",
    "import json\n",
    "import matplotlib.pyplot as plt\n",
    "from scipy.stats import linregress\n",
    "import numpy as np\n",
    "from config import api_key\n",
    "import time   #used for time.sleep"
   ]
  },
  {
   "cell_type": "code",
   "execution_count": 2,
   "metadata": {},
   "outputs": [],
   "source": [
    "# Generate a random list of 500 unique cities with a reasonably even distribution across the globe\n",
    "\n",
    "# Set a range for lat and lng that includes the whole Earth\n",
    "# latitude range is -90 to 90, longitude range is -180 to 180\n",
    "lats = []\n",
    "longs = []\n",
    "\n",
    "lats = np.random.uniform(-90, 90, 25)\n",
    "longs = np.random.uniform(-180, 180, 25)\n",
    "\n",
    "#print(lats)\n",
    "#print(longs)"
   ]
  },
  {
   "cell_type": "code",
   "execution_count": 3,
   "metadata": {},
   "outputs": [],
   "source": [
    "# zip lists together to form coordinates\n",
    "lat_long = zip(lats, longs)"
   ]
  },
  {
   "cell_type": "code",
   "execution_count": 4,
   "metadata": {},
   "outputs": [
    {
     "name": "stdout",
     "output_type": "stream",
     "text": [
      "24\n",
      "24\n"
     ]
    }
   ],
   "source": [
    "# Use citipy to find cities near coordinates\n",
    "\n",
    "#Import citipy\n",
    "from citipy import citipy\n",
    "\n",
    "cities = []\n",
    "countries = []\n",
    "\n",
    "for lat_long in lat_long:\n",
    "    city = citipy.nearest_city(lat_long[0], lat_long[1]).city_name\n",
    "    country = citipy.nearest_city(lat_long[0], lat_long[1]).country_code\n",
    "    \n",
    "    # If the city is unique, then add it to a our cities list\n",
    "    if city not in cities:\n",
    "        cities.append(city)\n",
    "        countries.append(country)\n",
    "\n",
    "# Print the city count to confirm sufficient count\n",
    "print(len(cities))\n",
    "print(len(countries))"
   ]
  },
  {
   "cell_type": "code",
   "execution_count": 5,
   "metadata": {},
   "outputs": [],
   "source": [
    "# Format data for improved legibility\n",
    "cities = [city.title() for city in cities]\n",
    "countries = [country.upper() for country in countries]"
   ]
  },
  {
   "cell_type": "code",
   "execution_count": 6,
   "metadata": {},
   "outputs": [
    {
     "data": {
      "text/html": [
       "<div>\n",
       "<style scoped>\n",
       "    .dataframe tbody tr th:only-of-type {\n",
       "        vertical-align: middle;\n",
       "    }\n",
       "\n",
       "    .dataframe tbody tr th {\n",
       "        vertical-align: top;\n",
       "    }\n",
       "\n",
       "    .dataframe thead th {\n",
       "        text-align: right;\n",
       "    }\n",
       "</style>\n",
       "<table border=\"1\" class=\"dataframe\">\n",
       "  <thead>\n",
       "    <tr style=\"text-align: right;\">\n",
       "      <th></th>\n",
       "      <th>Cities</th>\n",
       "      <th>Countries</th>\n",
       "    </tr>\n",
       "  </thead>\n",
       "  <tbody>\n",
       "    <tr>\n",
       "      <th>0</th>\n",
       "      <td>Bakel</td>\n",
       "      <td>SN</td>\n",
       "    </tr>\n",
       "    <tr>\n",
       "      <th>1</th>\n",
       "      <td>Taolanaro</td>\n",
       "      <td>MG</td>\n",
       "    </tr>\n",
       "    <tr>\n",
       "      <th>2</th>\n",
       "      <td>Jamestown</td>\n",
       "      <td>SH</td>\n",
       "    </tr>\n",
       "    <tr>\n",
       "      <th>3</th>\n",
       "      <td>Nikolskoye</td>\n",
       "      <td>RU</td>\n",
       "    </tr>\n",
       "    <tr>\n",
       "      <th>4</th>\n",
       "      <td>Arraial Do Cabo</td>\n",
       "      <td>BR</td>\n",
       "    </tr>\n",
       "  </tbody>\n",
       "</table>\n",
       "</div>"
      ],
      "text/plain": [
       "            Cities Countries\n",
       "0            Bakel        SN\n",
       "1        Taolanaro        MG\n",
       "2        Jamestown        SH\n",
       "3       Nikolskoye        RU\n",
       "4  Arraial Do Cabo        BR"
      ]
     },
     "execution_count": 6,
     "metadata": {},
     "output_type": "execute_result"
    }
   ],
   "source": [
    "# Build dataframe to hold data\n",
    "weather_df = pd.DataFrame({\"Cities\" : cities, \"Countries\" : countries})\n",
    "weather_df.head()"
   ]
  },
  {
   "cell_type": "code",
   "execution_count": 7,
   "metadata": {},
   "outputs": [
    {
     "data": {
      "text/plain": [
       "Cities       0\n",
       "Countries    0\n",
       "dtype: int64"
      ]
     },
     "execution_count": 7,
     "metadata": {},
     "output_type": "execute_result"
    }
   ],
   "source": [
    "# Check for NaNs\n",
    "weather_df.isnull().sum()"
   ]
  },
  {
   "cell_type": "code",
   "execution_count": 8,
   "metadata": {},
   "outputs": [
    {
     "data": {
      "text/html": [
       "<div>\n",
       "<style scoped>\n",
       "    .dataframe tbody tr th:only-of-type {\n",
       "        vertical-align: middle;\n",
       "    }\n",
       "\n",
       "    .dataframe tbody tr th {\n",
       "        vertical-align: top;\n",
       "    }\n",
       "\n",
       "    .dataframe thead th {\n",
       "        text-align: right;\n",
       "    }\n",
       "</style>\n",
       "<table border=\"1\" class=\"dataframe\">\n",
       "  <thead>\n",
       "    <tr style=\"text-align: right;\">\n",
       "      <th></th>\n",
       "      <th>Cities</th>\n",
       "      <th>Countries</th>\n",
       "      <th>Latitude</th>\n",
       "      <th>Longitude</th>\n",
       "      <th>Max Temperature (F)</th>\n",
       "      <th>Humidity (%)</th>\n",
       "      <th>Cloudiness</th>\n",
       "      <th>Wind Speed (mph)</th>\n",
       "      <th>Date</th>\n",
       "    </tr>\n",
       "  </thead>\n",
       "  <tbody>\n",
       "    <tr>\n",
       "      <th>0</th>\n",
       "      <td>Bakel</td>\n",
       "      <td>SN</td>\n",
       "      <td></td>\n",
       "      <td></td>\n",
       "      <td></td>\n",
       "      <td></td>\n",
       "      <td></td>\n",
       "      <td></td>\n",
       "      <td></td>\n",
       "    </tr>\n",
       "    <tr>\n",
       "      <th>1</th>\n",
       "      <td>Taolanaro</td>\n",
       "      <td>MG</td>\n",
       "      <td></td>\n",
       "      <td></td>\n",
       "      <td></td>\n",
       "      <td></td>\n",
       "      <td></td>\n",
       "      <td></td>\n",
       "      <td></td>\n",
       "    </tr>\n",
       "    <tr>\n",
       "      <th>2</th>\n",
       "      <td>Jamestown</td>\n",
       "      <td>SH</td>\n",
       "      <td></td>\n",
       "      <td></td>\n",
       "      <td></td>\n",
       "      <td></td>\n",
       "      <td></td>\n",
       "      <td></td>\n",
       "      <td></td>\n",
       "    </tr>\n",
       "    <tr>\n",
       "      <th>3</th>\n",
       "      <td>Nikolskoye</td>\n",
       "      <td>RU</td>\n",
       "      <td></td>\n",
       "      <td></td>\n",
       "      <td></td>\n",
       "      <td></td>\n",
       "      <td></td>\n",
       "      <td></td>\n",
       "      <td></td>\n",
       "    </tr>\n",
       "    <tr>\n",
       "      <th>4</th>\n",
       "      <td>Arraial Do Cabo</td>\n",
       "      <td>BR</td>\n",
       "      <td></td>\n",
       "      <td></td>\n",
       "      <td></td>\n",
       "      <td></td>\n",
       "      <td></td>\n",
       "      <td></td>\n",
       "      <td></td>\n",
       "    </tr>\n",
       "  </tbody>\n",
       "</table>\n",
       "</div>"
      ],
      "text/plain": [
       "            Cities Countries Latitude Longitude Max Temperature (F)  \\\n",
       "0            Bakel        SN                                          \n",
       "1        Taolanaro        MG                                          \n",
       "2        Jamestown        SH                                          \n",
       "3       Nikolskoye        RU                                          \n",
       "4  Arraial Do Cabo        BR                                          \n",
       "\n",
       "  Humidity (%) Cloudiness Wind Speed (mph) Date  \n",
       "0                                                \n",
       "1                                                \n",
       "2                                                \n",
       "3                                                \n",
       "4                                                "
      ]
     },
     "execution_count": 8,
     "metadata": {},
     "output_type": "execute_result"
    }
   ],
   "source": [
    "# Add places to hold data for each city\n",
    "\n",
    "weather_df[\"Latitude\"] = \"\"\n",
    "weather_df[\"Longitude\"] = \"\"\n",
    "weather_df[\"Max Temperature (F)\"] = \"\"\n",
    "weather_df[\"Humidity (%)\"] = \"\"\n",
    "weather_df[\"Cloudiness\"] = \"\"\n",
    "weather_df[\"Wind Speed (mph)\"] = \"\"\n",
    "weather_df[\"Date\"] = \"\"\n",
    "weather_df.head()"
   ]
  },
  {
   "cell_type": "code",
   "execution_count": 9,
   "metadata": {},
   "outputs": [],
   "source": [
    "# Use OpenWeather to get weather data for generated list of cities, test on one city\n",
    "\n",
    "base_url = \"http://api.openweathermap.org/data/2.5/weather?\"\n",
    "city_name = \"Minneapolis\"\n",
    "country_code = \"US\"\n",
    "query_url = f\"{base_url}q={city_name},{country_code}&appid={api_key}&units=imperial\"\n",
    "#print(query_url) - test url worked\n",
    "#minneapolis_weather = requests.get(query_url).json()\n",
    "#minneapolis_weather"
   ]
  },
  {
   "cell_type": "code",
   "execution_count": 10,
   "metadata": {
    "scrolled": true
   },
   "outputs": [
    {
     "name": "stdout",
     "output_type": "stream",
     "text": [
      "0 Bakel\n",
      "1 Taolanaro\n",
      "skip\n",
      "2 Jamestown\n",
      "3 Nikolskoye\n",
      "4 Arraial Do Cabo\n",
      "5 Port Hardy\n",
      "6 Atuona\n",
      "7 Albany\n",
      "8 The Valley\n",
      "9 Alotau\n",
      "skip\n",
      "10 Ushuaia\n",
      "11 Batemans Bay\n",
      "12 Marquard\n",
      "13 Wenling\n",
      "14 Olinda\n",
      "15 Ndiekro\n",
      "skip\n",
      "16 Moree\n",
      "17 Busselton\n",
      "18 Flin Flon\n",
      "19 Hobart\n",
      "20 Kusye-Aleksandrovskiy\n",
      "skip\n",
      "21 Pascagoula\n",
      "22 Punta Arenas\n",
      "23 Pevek\n"
     ]
    }
   ],
   "source": [
    "# Build a for loop to use the city names to call the OpenWeather API\n",
    "# Test to ensure that the city has data, otherwise skip\n",
    "# Generate a print log for each city as it is being processed\n",
    "\n",
    "my_params = {\"appid\" : api_key, \"units\" : \"imperial\"}\n",
    "\n",
    "for index, row in weather_df.iterrows():\n",
    "    base_url = \"http://api.openweathermap.org/data/2.5/weather?\"\n",
    "    city = row[\"Cities\"]\n",
    "    country = row[\"Countries\"]\n",
    "    \n",
    "    my_params['q'] = f'{city},{country}'\n",
    "    \n",
    "    #make request\n",
    "    cities_weather = requests.get(base_url, params=my_params).json()\n",
    "    print(index, city)\n",
    "    try:\n",
    "        weather_df.loc[index, \"Latitude\"] = cities_weather[\"coord\"][\"lat\"]\n",
    "    except KeyError:\n",
    "        weather_df.loc[index, \"Latitude\"] = np.nan\n",
    "        print(\"skip\")\n",
    "        continue\n",
    "       \n",
    "    weather_df.loc[index, \"Longitude\"] = cities_weather[\"coord\"][\"lon\"]\n",
    "    weather_df.loc[index, \"Max Temperature (F)\"] = cities_weather[\"main\"][\"temp_max\"]\n",
    "    weather_df.loc[index, \"Humidity (%)\"] = cities_weather[\"main\"][\"humidity\"]\n",
    "    weather_df.loc[index, \"Cloudiness\"] = cities_weather[\"clouds\"][\"all\"]\n",
    "    weather_df.loc[index, \"Wind Speed (mph)\"] = cities_weather[\"wind\"][\"speed\"]\n",
    "    weather_df.loc[index, \"Date\"] = cities_weather[\"dt\"]\n",
    "    \n",
    "    time.sleep(1)\n",
    "        "
   ]
  },
  {
   "cell_type": "code",
   "execution_count": 11,
   "metadata": {},
   "outputs": [
    {
     "data": {
      "text/plain": [
       "20"
      ]
     },
     "execution_count": 11,
     "metadata": {},
     "output_type": "execute_result"
    }
   ],
   "source": [
    "#Drop rows with missing values\n",
    "weather_df.dropna(inplace=True)\n",
    "weather_df.reset_index(drop=True, inplace=True)\n",
    "len(weather_df)"
   ]
  },
  {
   "cell_type": "code",
   "execution_count": 12,
   "metadata": {},
   "outputs": [
    {
     "data": {
      "text/plain": [
       "88"
      ]
     },
     "execution_count": 12,
     "metadata": {},
     "output_type": "execute_result"
    }
   ],
   "source": [
    "# Check for humidity outliers\n",
    "weather_df[\"Humidity (%)\"].max()"
   ]
  },
  {
   "cell_type": "code",
   "execution_count": 13,
   "metadata": {},
   "outputs": [
    {
     "data": {
      "text/html": [
       "<div>\n",
       "<style scoped>\n",
       "    .dataframe tbody tr th:only-of-type {\n",
       "        vertical-align: middle;\n",
       "    }\n",
       "\n",
       "    .dataframe tbody tr th {\n",
       "        vertical-align: top;\n",
       "    }\n",
       "\n",
       "    .dataframe thead th {\n",
       "        text-align: right;\n",
       "    }\n",
       "</style>\n",
       "<table border=\"1\" class=\"dataframe\">\n",
       "  <thead>\n",
       "    <tr style=\"text-align: right;\">\n",
       "      <th></th>\n",
       "      <th>Cities</th>\n",
       "      <th>Countries</th>\n",
       "      <th>Latitude</th>\n",
       "      <th>Longitude</th>\n",
       "      <th>Max Temperature (F)</th>\n",
       "      <th>Humidity (%)</th>\n",
       "      <th>Cloudiness</th>\n",
       "      <th>Wind Speed (mph)</th>\n",
       "      <th>Date</th>\n",
       "    </tr>\n",
       "  </thead>\n",
       "  <tbody>\n",
       "    <tr>\n",
       "      <th>0</th>\n",
       "      <td>Bakel</td>\n",
       "      <td>SN</td>\n",
       "      <td>14.905</td>\n",
       "      <td>-12.4568</td>\n",
       "      <td>72.54</td>\n",
       "      <td>20</td>\n",
       "      <td>80</td>\n",
       "      <td>10.49</td>\n",
       "      <td>1612840358</td>\n",
       "    </tr>\n",
       "    <tr>\n",
       "      <th>1</th>\n",
       "      <td>Jamestown</td>\n",
       "      <td>SH</td>\n",
       "      <td>-15.9387</td>\n",
       "      <td>-5.7168</td>\n",
       "      <td>68.45</td>\n",
       "      <td>88</td>\n",
       "      <td>54</td>\n",
       "      <td>14.97</td>\n",
       "      <td>1612840360</td>\n",
       "    </tr>\n",
       "    <tr>\n",
       "      <th>2</th>\n",
       "      <td>Nikolskoye</td>\n",
       "      <td>RU</td>\n",
       "      <td>59.7035</td>\n",
       "      <td>30.7861</td>\n",
       "      <td>5</td>\n",
       "      <td>85</td>\n",
       "      <td>90</td>\n",
       "      <td>2.24</td>\n",
       "      <td>1612840102</td>\n",
       "    </tr>\n",
       "    <tr>\n",
       "      <th>3</th>\n",
       "      <td>Arraial Do Cabo</td>\n",
       "      <td>BR</td>\n",
       "      <td>-22.9661</td>\n",
       "      <td>-42.0278</td>\n",
       "      <td>72.36</td>\n",
       "      <td>73</td>\n",
       "      <td>100</td>\n",
       "      <td>2.06</td>\n",
       "      <td>1612840075</td>\n",
       "    </tr>\n",
       "    <tr>\n",
       "      <th>4</th>\n",
       "      <td>Port Hardy</td>\n",
       "      <td>CA</td>\n",
       "      <td>50.6996</td>\n",
       "      <td>-127.42</td>\n",
       "      <td>37.4</td>\n",
       "      <td>74</td>\n",
       "      <td>1</td>\n",
       "      <td>8.05</td>\n",
       "      <td>1612840363</td>\n",
       "    </tr>\n",
       "  </tbody>\n",
       "</table>\n",
       "</div>"
      ],
      "text/plain": [
       "            Cities Countries Latitude Longitude Max Temperature (F)  \\\n",
       "0            Bakel        SN   14.905  -12.4568               72.54   \n",
       "1        Jamestown        SH -15.9387   -5.7168               68.45   \n",
       "2       Nikolskoye        RU  59.7035   30.7861                   5   \n",
       "3  Arraial Do Cabo        BR -22.9661  -42.0278               72.36   \n",
       "4       Port Hardy        CA  50.6996   -127.42                37.4   \n",
       "\n",
       "  Humidity (%) Cloudiness Wind Speed (mph)        Date  \n",
       "0           20         80            10.49  1612840358  \n",
       "1           88         54            14.97  1612840360  \n",
       "2           85         90             2.24  1612840102  \n",
       "3           73        100             2.06  1612840075  \n",
       "4           74          1             8.05  1612840363  "
      ]
     },
     "execution_count": 13,
     "metadata": {},
     "output_type": "execute_result"
    }
   ],
   "source": [
    "weather_df.head()"
   ]
  },
  {
   "cell_type": "code",
   "execution_count": 14,
   "metadata": {},
   "outputs": [
    {
     "data": {
      "text/html": [
       "<div>\n",
       "<style scoped>\n",
       "    .dataframe tbody tr th:only-of-type {\n",
       "        vertical-align: middle;\n",
       "    }\n",
       "\n",
       "    .dataframe tbody tr th {\n",
       "        vertical-align: top;\n",
       "    }\n",
       "\n",
       "    .dataframe thead th {\n",
       "        text-align: right;\n",
       "    }\n",
       "</style>\n",
       "<table border=\"1\" class=\"dataframe\">\n",
       "  <thead>\n",
       "    <tr style=\"text-align: right;\">\n",
       "      <th></th>\n",
       "      <th>Cities</th>\n",
       "      <th>Countries</th>\n",
       "      <th>Latitude</th>\n",
       "      <th>Longitude</th>\n",
       "      <th>Max Temperature (F)</th>\n",
       "      <th>Humidity (%)</th>\n",
       "      <th>Cloudiness</th>\n",
       "      <th>Wind Speed (mph)</th>\n",
       "      <th>Date</th>\n",
       "    </tr>\n",
       "  </thead>\n",
       "  <tbody>\n",
       "    <tr>\n",
       "      <th>0</th>\n",
       "      <td>Bakel</td>\n",
       "      <td>SN</td>\n",
       "      <td>14.90</td>\n",
       "      <td>-12.46</td>\n",
       "      <td>72.5</td>\n",
       "      <td>20</td>\n",
       "      <td>80</td>\n",
       "      <td>10.5</td>\n",
       "      <td>02-09-2021</td>\n",
       "    </tr>\n",
       "    <tr>\n",
       "      <th>1</th>\n",
       "      <td>Jamestown</td>\n",
       "      <td>SH</td>\n",
       "      <td>-15.94</td>\n",
       "      <td>-5.72</td>\n",
       "      <td>68.4</td>\n",
       "      <td>88</td>\n",
       "      <td>54</td>\n",
       "      <td>15.0</td>\n",
       "      <td>02-09-2021</td>\n",
       "    </tr>\n",
       "    <tr>\n",
       "      <th>2</th>\n",
       "      <td>Nikolskoye</td>\n",
       "      <td>RU</td>\n",
       "      <td>59.70</td>\n",
       "      <td>30.79</td>\n",
       "      <td>5.0</td>\n",
       "      <td>85</td>\n",
       "      <td>90</td>\n",
       "      <td>2.2</td>\n",
       "      <td>02-09-2021</td>\n",
       "    </tr>\n",
       "    <tr>\n",
       "      <th>3</th>\n",
       "      <td>Arraial Do Cabo</td>\n",
       "      <td>BR</td>\n",
       "      <td>-22.97</td>\n",
       "      <td>-42.03</td>\n",
       "      <td>72.4</td>\n",
       "      <td>73</td>\n",
       "      <td>100</td>\n",
       "      <td>2.1</td>\n",
       "      <td>02-09-2021</td>\n",
       "    </tr>\n",
       "    <tr>\n",
       "      <th>4</th>\n",
       "      <td>Port Hardy</td>\n",
       "      <td>CA</td>\n",
       "      <td>50.70</td>\n",
       "      <td>-127.42</td>\n",
       "      <td>37.4</td>\n",
       "      <td>74</td>\n",
       "      <td>1</td>\n",
       "      <td>8.0</td>\n",
       "      <td>02-09-2021</td>\n",
       "    </tr>\n",
       "  </tbody>\n",
       "</table>\n",
       "</div>"
      ],
      "text/plain": [
       "            Cities Countries  Latitude  Longitude  Max Temperature (F)  \\\n",
       "0            Bakel        SN     14.90     -12.46                 72.5   \n",
       "1        Jamestown        SH    -15.94      -5.72                 68.4   \n",
       "2       Nikolskoye        RU     59.70      30.79                  5.0   \n",
       "3  Arraial Do Cabo        BR    -22.97     -42.03                 72.4   \n",
       "4       Port Hardy        CA     50.70    -127.42                 37.4   \n",
       "\n",
       "   Humidity (%)  Cloudiness  Wind Speed (mph)        Date  \n",
       "0            20          80              10.5  02-09-2021  \n",
       "1            88          54              15.0  02-09-2021  \n",
       "2            85          90               2.2  02-09-2021  \n",
       "3            73         100               2.1  02-09-2021  \n",
       "4            74           1               8.0  02-09-2021  "
      ]
     },
     "execution_count": 14,
     "metadata": {},
     "output_type": "execute_result"
    }
   ],
   "source": [
    "#Clean up formatting\n",
    "weather_df = weather_df.convert_dtypes()\n",
    "weather_df = weather_df.round({\"Latitude\": 2,\"Longitude\": 2, \"Max Temperature (F)\": 1, \"Wind Speed (mph)\": 1})\n",
    "weather_df[\"Date\"]=pd.to_datetime(weather_df[\"Date\"],unit='s').dt.strftime('%m-%d-%Y')\n",
    "weather_df.head()"
   ]
  },
  {
   "cell_type": "code",
   "execution_count": 15,
   "metadata": {},
   "outputs": [],
   "source": [
    "# Save a CSV file containing all weather data\n",
    "\n",
    "weather_df.to_csv(\"cities_weather.csv\", encoding='utf-8', index=False)"
   ]
  },
  {
   "cell_type": "code",
   "execution_count": 16,
   "metadata": {},
   "outputs": [
    {
     "data": {
      "image/png": "[encoded data removed]",
      "text/plain": [
       "<Figure size 648x432 with 1 Axes>"
      ]
     },
     "metadata": {
      "needs_background": "light"
     },
     "output_type": "display_data"
    },
    {
     "data": {
      "text/plain": [
       "<Figure size 432x288 with 0 Axes>"
      ]
     },
     "metadata": {},
     "output_type": "display_data"
    }
   ],
   "source": [
    "# Make a scatter plot to show relationship of temperature v latitude\n",
    "\n",
    "x = weather_df[\"Latitude\"]\n",
    "y = weather_df[\"Max Temperature (F)\"]\n",
    "date = weather_df[\"Date\"][0]\n",
    "\n",
    "plt.figure(figsize=(9,6))\n",
    "plt.scatter(x, y, marker=\"o\", s=50, facecolor=\"cyan\", edgecolors=\"black\", alpha=0.75, linewidths=1)\n",
    "plt.xlim(-90,90)\n",
    "plt.ylim(-50, 100)\n",
    "plt.title(f\"City Latitude vs. Max Temperature ({date})\")\n",
    "plt.xlabel(\"Latitude\")\n",
    "plt.ylabel(\"Max Temperature (F)\")\n",
    "plt.grid()\n",
    "plt.tight_layout()\n",
    "plt.show()\n",
    "\n",
    "# Save plot as a PNG file\n",
    "plt.savefig(\"temp_plot.png\")"
   ]
  },
  {
   "cell_type": "markdown",
   "metadata": {},
   "source": [
    "## After each plot, add a sentence or two explaining what the code is analyzing."
   ]
  },
  {
   "cell_type": "code",
   "execution_count": 17,
   "metadata": {},
   "outputs": [
    {
     "data": {
      "image/png": "[encoded data removed]",
      "text/plain": [
       "<Figure size 648x432 with 1 Axes>"
      ]
     },
     "metadata": {
      "needs_background": "light"
     },
     "output_type": "display_data"
    },
    {
     "data": {
      "text/plain": [
       "<Figure size 432x288 with 0 Axes>"
      ]
     },
     "metadata": {},
     "output_type": "display_data"
    }
   ],
   "source": [
    "# Make a scatter plot to show the relationship of humidity v latitude\n",
    "\n",
    "x = weather_df[\"Latitude\"]\n",
    "y = weather_df[\"Humidity (%)\"]\n",
    "date = weather_df[\"Date\"][0]\n",
    "\n",
    "plt.figure(figsize=(9,6))\n",
    "plt.scatter(x, y, marker=\"o\", s=50, facecolor=\"cyan\", edgecolors=\"black\", alpha=0.75, linewidths=1)\n",
    "plt.xlim(-90,90)\n",
    "plt.ylim(0, 105)\n",
    "plt.title(f\"City Latitude vs. Humidity ({date})\")\n",
    "plt.xlabel(\"Latitude\")\n",
    "plt.ylabel(\"Humidity (%)\")\n",
    "plt.grid()\n",
    "plt.tight_layout()\n",
    "plt.show()\n",
    "\n",
    "# Save plot as a PNG file\n",
    "plt.savefig(\"humid_plot.png\")"
   ]
  },
  {
   "cell_type": "markdown",
   "metadata": {},
   "source": [
    "## After each plot, add a sentence or two explaining what the code is analyzing."
   ]
  },
  {
   "cell_type": "code",
   "execution_count": 18,
   "metadata": {},
   "outputs": [
    {
     "data": {
      "image/png": "[encoded data removed]",
      "text/plain": [
       "<Figure size 648x432 with 1 Axes>"
      ]
     },
     "metadata": {
      "needs_background": "light"
     },
     "output_type": "display_data"
    },
    {
     "data": {
      "text/plain": [
       "<Figure size 432x288 with 0 Axes>"
      ]
     },
     "metadata": {},
     "output_type": "display_data"
    }
   ],
   "source": [
    "# Make a scatter plot to show the relationship of cloudiness v latitude\n",
    "\n",
    "x = weather_df[\"Latitude\"]\n",
    "y = weather_df[\"Cloudiness\"]\n",
    "date = weather_df[\"Date\"][0]\n",
    "\n",
    "plt.figure(figsize=(9,6))\n",
    "plt.scatter(x, y, marker=\"o\", s=50, facecolor=\"cyan\", edgecolors=\"black\", alpha=0.75, linewidths=1)\n",
    "plt.xlim(-90,90)\n",
    "plt.ylim(-5, 105)\n",
    "plt.title(f\"City Latitude vs. Cloudiness ({date})\")\n",
    "plt.xlabel(\"Latitude\")\n",
    "plt.ylabel(\"Cloudiness (%)\")\n",
    "plt.grid()\n",
    "plt.tight_layout()\n",
    "plt.show()\n",
    "\n",
    "# Save plot as a PNG file\n",
    "plt.savefig(\"cloud_plot.png\")"
   ]
  },
  {
   "cell_type": "markdown",
   "metadata": {},
   "source": [
    "## After each plot, add a sentence or two explaining what the code is analyzing."
   ]
  },
  {
   "cell_type": "code",
   "execution_count": 19,
   "metadata": {
    "scrolled": true
   },
   "outputs": [
    {
     "data": {
      "image/png": "[encoded data removed]",
      "text/plain": [
       "<Figure size 648x432 with 1 Axes>"
      ]
     },
     "metadata": {
      "needs_background": "light"
     },
     "output_type": "display_data"
    },
    {
     "data": {
      "text/plain": [
       "<Figure size 432x288 with 0 Axes>"
      ]
     },
     "metadata": {},
     "output_type": "display_data"
    }
   ],
   "source": [
    "# Make a scatter plot to show the relationship of wind speed v latitude\n",
    "\n",
    "x = weather_df[\"Latitude\"]\n",
    "y = weather_df[\"Wind Speed (mph)\"]\n",
    "ymax = max(y)\n",
    "date = weather_df[\"Date\"][0]\n",
    "\n",
    "plt.figure(figsize=(9,6))\n",
    "plt.scatter(x, y, marker=\"o\", s=50, facecolor=\"cyan\", edgecolors=\"black\", alpha=0.75, linewidths=1)\n",
    "plt.xlim(-90,90)\n",
    "plt.ylim(-5, 1.05*ymax)\n",
    "plt.title(f\"City Latitude vs. Wind Speed ({date})\")\n",
    "plt.xlabel(\"Latitude\")\n",
    "plt.ylabel(\"Wind Speed (mph)\")\n",
    "plt.grid()\n",
    "plt.tight_layout()\n",
    "plt.show()\n",
    "\n",
    "# Save plot as a PNG file\n",
    "plt.savefig(\"wind_plot.png\")"
   ]
  },
  {
   "cell_type": "markdown",
   "metadata": {},
   "source": [
    "## After each plot, add a sentence or two explaining what the code is analyzing."
   ]
  },
  {
   "cell_type": "code",
   "execution_count": 20,
   "metadata": {},
   "outputs": [],
   "source": [
    "# The second requirement is to run linear regression on each relationship. This time, separate the plots \n",
    "# into Northern Hemisphere (greater than or equal to 0 degrees latitude) and Southern Hemisphere (less than 0 \n",
    "# degrees latitude):"
   ]
  },
  {
   "cell_type": "code",
   "execution_count": 21,
   "metadata": {},
   "outputs": [],
   "source": [
    "# Study data files\n"
   ]
  },
  {
   "cell_type": "code",
   "execution_count": 23,
   "metadata": {},
   "outputs": [
    {
     "data": {
      "text/html": [
       "<div>\n",
       "<style scoped>\n",
       "    .dataframe tbody tr th:only-of-type {\n",
       "        vertical-align: middle;\n",
       "    }\n",
       "\n",
       "    .dataframe tbody tr th {\n",
       "        vertical-align: top;\n",
       "    }\n",
       "\n",
       "    .dataframe thead th {\n",
       "        text-align: right;\n",
       "    }\n",
       "</style>\n",
       "<table border=\"1\" class=\"dataframe\">\n",
       "  <thead>\n",
       "    <tr style=\"text-align: right;\">\n",
       "      <th></th>\n",
       "      <th>Cities</th>\n",
       "      <th>Countries</th>\n",
       "      <th>Latitude</th>\n",
       "      <th>Longitude</th>\n",
       "      <th>Max Temperature (F)</th>\n",
       "      <th>Humidity (%)</th>\n",
       "      <th>Cloudiness</th>\n",
       "      <th>Wind Speed (mph)</th>\n",
       "      <th>Date</th>\n",
       "      <th>Hemisphere</th>\n",
       "    </tr>\n",
       "  </thead>\n",
       "  <tbody>\n",
       "    <tr>\n",
       "      <th>0</th>\n",
       "      <td>Bakel</td>\n",
       "      <td>SN</td>\n",
       "      <td>14.90</td>\n",
       "      <td>-12.46</td>\n",
       "      <td>72.5</td>\n",
       "      <td>20</td>\n",
       "      <td>80</td>\n",
       "      <td>10.5</td>\n",
       "      <td>02-09-2021</td>\n",
       "      <td>north</td>\n",
       "    </tr>\n",
       "    <tr>\n",
       "      <th>1</th>\n",
       "      <td>Jamestown</td>\n",
       "      <td>SH</td>\n",
       "      <td>-15.94</td>\n",
       "      <td>-5.72</td>\n",
       "      <td>68.4</td>\n",
       "      <td>88</td>\n",
       "      <td>54</td>\n",
       "      <td>15.0</td>\n",
       "      <td>02-09-2021</td>\n",
       "      <td>south</td>\n",
       "    </tr>\n",
       "    <tr>\n",
       "      <th>2</th>\n",
       "      <td>Nikolskoye</td>\n",
       "      <td>RU</td>\n",
       "      <td>59.70</td>\n",
       "      <td>30.79</td>\n",
       "      <td>5.0</td>\n",
       "      <td>85</td>\n",
       "      <td>90</td>\n",
       "      <td>2.2</td>\n",
       "      <td>02-09-2021</td>\n",
       "      <td>north</td>\n",
       "    </tr>\n",
       "    <tr>\n",
       "      <th>3</th>\n",
       "      <td>Arraial Do Cabo</td>\n",
       "      <td>BR</td>\n",
       "      <td>-22.97</td>\n",
       "      <td>-42.03</td>\n",
       "      <td>72.4</td>\n",
       "      <td>73</td>\n",
       "      <td>100</td>\n",
       "      <td>2.1</td>\n",
       "      <td>02-09-2021</td>\n",
       "      <td>south</td>\n",
       "    </tr>\n",
       "    <tr>\n",
       "      <th>4</th>\n",
       "      <td>Port Hardy</td>\n",
       "      <td>CA</td>\n",
       "      <td>50.70</td>\n",
       "      <td>-127.42</td>\n",
       "      <td>37.4</td>\n",
       "      <td>74</td>\n",
       "      <td>1</td>\n",
       "      <td>8.0</td>\n",
       "      <td>02-09-2021</td>\n",
       "      <td>north</td>\n",
       "    </tr>\n",
       "  </tbody>\n",
       "</table>\n",
       "</div>"
      ],
      "text/plain": [
       "            Cities Countries  Latitude  Longitude  Max Temperature (F)  \\\n",
       "0            Bakel        SN     14.90     -12.46                 72.5   \n",
       "1        Jamestown        SH    -15.94      -5.72                 68.4   \n",
       "2       Nikolskoye        RU     59.70      30.79                  5.0   \n",
       "3  Arraial Do Cabo        BR    -22.97     -42.03                 72.4   \n",
       "4       Port Hardy        CA     50.70    -127.42                 37.4   \n",
       "\n",
       "   Humidity (%)  Cloudiness  Wind Speed (mph)        Date Hemisphere  \n",
       "0            20          80              10.5  02-09-2021      north  \n",
       "1            88          54              15.0  02-09-2021      south  \n",
       "2            85          90               2.2  02-09-2021      north  \n",
       "3            73         100               2.1  02-09-2021      south  \n",
       "4            74           1               8.0  02-09-2021      north  "
      ]
     },
     "execution_count": 23,
     "metadata": {},
     "output_type": "execute_result"
    }
   ],
   "source": [
    "# Create bins and bin data\n",
    "\n",
    "bins = [-90, 0, 90]\n",
    "labels = [\"south\", \"north\"]\n",
    "weather_df[\"Hemisphere\"] = pd.cut(weather_df[\"Latitude\"], bins=bins, labels=labels)\n",
    "weather_df.head()"
   ]
  },
  {
   "cell_type": "code",
   "execution_count": 24,
   "metadata": {},
   "outputs": [
    {
     "data": {
      "text/html": [
       "<div>\n",
       "<style scoped>\n",
       "    .dataframe tbody tr th:only-of-type {\n",
       "        vertical-align: middle;\n",
       "    }\n",
       "\n",
       "    .dataframe tbody tr th {\n",
       "        vertical-align: top;\n",
       "    }\n",
       "\n",
       "    .dataframe thead th {\n",
       "        text-align: right;\n",
       "    }\n",
       "</style>\n",
       "<table border=\"1\" class=\"dataframe\">\n",
       "  <thead>\n",
       "    <tr style=\"text-align: right;\">\n",
       "      <th></th>\n",
       "      <th>Cities</th>\n",
       "      <th>Countries</th>\n",
       "      <th>Latitude</th>\n",
       "      <th>Longitude</th>\n",
       "      <th>Max Temperature (F)</th>\n",
       "      <th>Humidity (%)</th>\n",
       "      <th>Cloudiness</th>\n",
       "      <th>Wind Speed (mph)</th>\n",
       "      <th>Date</th>\n",
       "      <th>Hemisphere</th>\n",
       "    </tr>\n",
       "  </thead>\n",
       "  <tbody>\n",
       "    <tr>\n",
       "      <th>0</th>\n",
       "      <td>Bakel</td>\n",
       "      <td>SN</td>\n",
       "      <td>14.90</td>\n",
       "      <td>-12.46</td>\n",
       "      <td>72.5</td>\n",
       "      <td>20</td>\n",
       "      <td>80</td>\n",
       "      <td>10.5</td>\n",
       "      <td>02-09-2021</td>\n",
       "      <td>north</td>\n",
       "    </tr>\n",
       "    <tr>\n",
       "      <th>1</th>\n",
       "      <td>Nikolskoye</td>\n",
       "      <td>RU</td>\n",
       "      <td>59.70</td>\n",
       "      <td>30.79</td>\n",
       "      <td>5.0</td>\n",
       "      <td>85</td>\n",
       "      <td>90</td>\n",
       "      <td>2.2</td>\n",
       "      <td>02-09-2021</td>\n",
       "      <td>north</td>\n",
       "    </tr>\n",
       "    <tr>\n",
       "      <th>2</th>\n",
       "      <td>Port Hardy</td>\n",
       "      <td>CA</td>\n",
       "      <td>50.70</td>\n",
       "      <td>-127.42</td>\n",
       "      <td>37.4</td>\n",
       "      <td>74</td>\n",
       "      <td>1</td>\n",
       "      <td>8.0</td>\n",
       "      <td>02-09-2021</td>\n",
       "      <td>north</td>\n",
       "    </tr>\n",
       "    <tr>\n",
       "      <th>3</th>\n",
       "      <td>The Valley</td>\n",
       "      <td>AI</td>\n",
       "      <td>18.22</td>\n",
       "      <td>-63.06</td>\n",
       "      <td>78.8</td>\n",
       "      <td>69</td>\n",
       "      <td>20</td>\n",
       "      <td>12.7</td>\n",
       "      <td>02-09-2021</td>\n",
       "      <td>north</td>\n",
       "    </tr>\n",
       "    <tr>\n",
       "      <th>4</th>\n",
       "      <td>Wenling</td>\n",
       "      <td>CN</td>\n",
       "      <td>28.37</td>\n",
       "      <td>121.36</td>\n",
       "      <td>51.0</td>\n",
       "      <td>74</td>\n",
       "      <td>100</td>\n",
       "      <td>10.0</td>\n",
       "      <td>02-09-2021</td>\n",
       "      <td>north</td>\n",
       "    </tr>\n",
       "  </tbody>\n",
       "</table>\n",
       "</div>"
      ],
      "text/plain": [
       "       Cities Countries  Latitude  Longitude  Max Temperature (F)  \\\n",
       "0       Bakel        SN     14.90     -12.46                 72.5   \n",
       "1  Nikolskoye        RU     59.70      30.79                  5.0   \n",
       "2  Port Hardy        CA     50.70    -127.42                 37.4   \n",
       "3  The Valley        AI     18.22     -63.06                 78.8   \n",
       "4     Wenling        CN     28.37     121.36                 51.0   \n",
       "\n",
       "   Humidity (%)  Cloudiness  Wind Speed (mph)        Date Hemisphere  \n",
       "0            20          80              10.5  02-09-2021      north  \n",
       "1            85          90               2.2  02-09-2021      north  \n",
       "2            74           1               8.0  02-09-2021      north  \n",
       "3            69          20              12.7  02-09-2021      north  \n",
       "4            74         100              10.0  02-09-2021      north  "
      ]
     },
     "execution_count": 24,
     "metadata": {},
     "output_type": "execute_result"
    }
   ],
   "source": [
    "# Split data into two frames, one for each hemisphere\n",
    "\n",
    "weather_north_df = weather_df.loc[weather_df[\"Latitude\"] > 0]\n",
    "weather_north_df.reset_index(inplace=True, drop=True)\n",
    "weather_north_df.head()"
   ]
  },
  {
   "cell_type": "code",
   "execution_count": 25,
   "metadata": {},
   "outputs": [
    {
     "data": {
      "text/html": [
       "<div>\n",
       "<style scoped>\n",
       "    .dataframe tbody tr th:only-of-type {\n",
       "        vertical-align: middle;\n",
       "    }\n",
       "\n",
       "    .dataframe tbody tr th {\n",
       "        vertical-align: top;\n",
       "    }\n",
       "\n",
       "    .dataframe thead th {\n",
       "        text-align: right;\n",
       "    }\n",
       "</style>\n",
       "<table border=\"1\" class=\"dataframe\">\n",
       "  <thead>\n",
       "    <tr style=\"text-align: right;\">\n",
       "      <th></th>\n",
       "      <th>Cities</th>\n",
       "      <th>Countries</th>\n",
       "      <th>Latitude</th>\n",
       "      <th>Longitude</th>\n",
       "      <th>Max Temperature (F)</th>\n",
       "      <th>Humidity (%)</th>\n",
       "      <th>Cloudiness</th>\n",
       "      <th>Wind Speed (mph)</th>\n",
       "      <th>Date</th>\n",
       "      <th>Hemisphere</th>\n",
       "    </tr>\n",
       "  </thead>\n",
       "  <tbody>\n",
       "    <tr>\n",
       "      <th>0</th>\n",
       "      <td>Jamestown</td>\n",
       "      <td>SH</td>\n",
       "      <td>-15.94</td>\n",
       "      <td>-5.72</td>\n",
       "      <td>68.4</td>\n",
       "      <td>88</td>\n",
       "      <td>54</td>\n",
       "      <td>15.0</td>\n",
       "      <td>02-09-2021</td>\n",
       "      <td>south</td>\n",
       "    </tr>\n",
       "    <tr>\n",
       "      <th>1</th>\n",
       "      <td>Arraial Do Cabo</td>\n",
       "      <td>BR</td>\n",
       "      <td>-22.97</td>\n",
       "      <td>-42.03</td>\n",
       "      <td>72.4</td>\n",
       "      <td>73</td>\n",
       "      <td>100</td>\n",
       "      <td>2.1</td>\n",
       "      <td>02-09-2021</td>\n",
       "      <td>south</td>\n",
       "    </tr>\n",
       "    <tr>\n",
       "      <th>2</th>\n",
       "      <td>Atuona</td>\n",
       "      <td>PF</td>\n",
       "      <td>-9.80</td>\n",
       "      <td>-139.03</td>\n",
       "      <td>79.6</td>\n",
       "      <td>78</td>\n",
       "      <td>99</td>\n",
       "      <td>18.8</td>\n",
       "      <td>02-09-2021</td>\n",
       "      <td>south</td>\n",
       "    </tr>\n",
       "    <tr>\n",
       "      <th>3</th>\n",
       "      <td>Albany</td>\n",
       "      <td>AU</td>\n",
       "      <td>-35.02</td>\n",
       "      <td>117.89</td>\n",
       "      <td>71.6</td>\n",
       "      <td>49</td>\n",
       "      <td>75</td>\n",
       "      <td>17.3</td>\n",
       "      <td>02-09-2021</td>\n",
       "      <td>south</td>\n",
       "    </tr>\n",
       "    <tr>\n",
       "      <th>4</th>\n",
       "      <td>Ushuaia</td>\n",
       "      <td>AR</td>\n",
       "      <td>-54.80</td>\n",
       "      <td>-68.30</td>\n",
       "      <td>55.4</td>\n",
       "      <td>62</td>\n",
       "      <td>75</td>\n",
       "      <td>16.1</td>\n",
       "      <td>02-09-2021</td>\n",
       "      <td>south</td>\n",
       "    </tr>\n",
       "  </tbody>\n",
       "</table>\n",
       "</div>"
      ],
      "text/plain": [
       "            Cities Countries  Latitude  Longitude  Max Temperature (F)  \\\n",
       "0        Jamestown        SH    -15.94      -5.72                 68.4   \n",
       "1  Arraial Do Cabo        BR    -22.97     -42.03                 72.4   \n",
       "2           Atuona        PF     -9.80    -139.03                 79.6   \n",
       "3           Albany        AU    -35.02     117.89                 71.6   \n",
       "4          Ushuaia        AR    -54.80     -68.30                 55.4   \n",
       "\n",
       "   Humidity (%)  Cloudiness  Wind Speed (mph)        Date Hemisphere  \n",
       "0            88          54              15.0  02-09-2021      south  \n",
       "1            73         100               2.1  02-09-2021      south  \n",
       "2            78          99              18.8  02-09-2021      south  \n",
       "3            49          75              17.3  02-09-2021      south  \n",
       "4            62          75              16.1  02-09-2021      south  "
      ]
     },
     "execution_count": 25,
     "metadata": {},
     "output_type": "execute_result"
    }
   ],
   "source": [
    "# Same for southern hemisphere\n",
    "\n",
    "weather_south_df = weather_df.loc[weather_df[\"Hemisphere\"] == \"south\"]\n",
    "weather_south_df.reset_index(inplace=True, drop=True)\n",
    "weather_south_df.head()"
   ]
  },
  {
   "cell_type": "code",
   "execution_count": 26,
   "metadata": {
    "scrolled": true
   },
   "outputs": [
    {
     "name": "stdout",
     "output_type": "stream",
     "text": [
      "y=-1.67x + 103.19\n"
     ]
    }
   ],
   "source": [
    "# Northern Hemisphere - Temperature (F) vs. Latitude\n",
    "# Southern Hemisphere - Temperature (F) vs. Latitude\n",
    "\n",
    "# define values for northern hemisphere\n",
    "xn = weather_north_df[\"Latitude\"]\n",
    "yn = weather_north_df[\"Max Temperature (F)\"]\n",
    "\n",
    "#calculate regression\n",
    "(slope_n, intercept_n, rvalue_n, pvalue_n, stderr_n) = linregress(xn, yn)\n",
    "regress_n = xn * slope_n + intercept_n\n",
    "line_eq_n = \"y=\" + str(round(slope_n,2)) + \"x + \" + str(round(intercept_n,2))\n",
    "print(line_eq_n)"
   ]
  },
  {
   "cell_type": "code",
   "execution_count": 27,
   "metadata": {},
   "outputs": [
    {
     "name": "stdout",
     "output_type": "stream",
     "text": [
      "y=0.46x + 83.51\n"
     ]
    }
   ],
   "source": [
    "#define values for southern hemisphere\n",
    "xs = weather_south_df[\"Latitude\"]\n",
    "ys = weather_south_df[\"Max Temperature (F)\"]\n",
    "\n",
    "#calculate regression\n",
    "(slope_s, intercept_s, rvalue_s, pvalue_s, stderr_s) = linregress(xs, ys)\n",
    "regress_s = xs * slope_s + intercept_s\n",
    "line_eq_s = \"y=\" + str(round(slope_s,2)) + \"x + \" + str(round(intercept_s,2))\n",
    "print(line_eq_s)"
   ]
  },
  {
   "cell_type": "code",
   "execution_count": 28,
   "metadata": {},
   "outputs": [
    {
     "data": {
      "image/png": "[encoded data removed]",
      "text/plain": [
       "<Figure size 864x432 with 2 Axes>"
      ]
     },
     "metadata": {
      "needs_background": "light"
     },
     "output_type": "display_data"
    }
   ],
   "source": [
    "fig, (ax1, ax2) = plt.subplots(1, 2, sharey=True, figsize=(12,6))\n",
    "fig.suptitle('Max Temperature vs Latitude in the Southern and Northern Hemispheres')\n",
    "ax1.scatter(xs, ys)\n",
    "ax1.set_xlim(left=-90, right=0)\n",
    "ax1.set_title(\"Southern Hemisphere\")\n",
    "ax1.set(xlabel= \"Degree of Latitude\", ylabel=\"Temperature in Degrees (F)\")\n",
    "ax1.plot(xs, regress_s, color='red', linewidth=2)\n",
    "ax1.annotate(line_eq_s, (-60,40), fontsize=15, color=\"red\")\n",
    "ax2.scatter(xn, yn)\n",
    "ax2.set_xlim(left=0, right=90)\n",
    "ax2.set_title(\"Northern Hemisphere\")\n",
    "ax2.set(xlabel= \"Degree of Latitude\", ylabel=\"Temperature in Degrees (F)\")\n",
    "ax2.plot(xn, regress_n, color=\"red\", linewidth=2)\n",
    "ax2.annotate(line_eq_n, (10,0), fontsize=15, color=\"red\")\n",
    "plt.show()"
   ]
  },
  {
   "cell_type": "code",
   "execution_count": 34,
   "metadata": {},
   "outputs": [
    {
     "name": "stdout",
     "output_type": "stream",
     "text": [
      "The r-value of the southern hemisphere is 0.73068 and the r-value of the northern hemisphere is -0.92988.\n"
     ]
    }
   ],
   "source": [
    "print(f'The r-value of the southern hemisphere is {round(rvalue_s,5)} and the r-value of the northern hemisphere is {round(rvalue_n,5)}.')"
   ]
  },
  {
   "cell_type": "code",
   "execution_count": 35,
   "metadata": {},
   "outputs": [
    {
     "name": "stdout",
     "output_type": "stream",
     "text": [
      "y=0.62x + 45.34\n"
     ]
    }
   ],
   "source": [
    "# Northern Hemisphere - Humidity (%) vs. Latitude\n",
    "# Southern Hemisphere - Humidity (%) vs. Latitude\n",
    "\n",
    "xn2 = weather_north_df[\"Latitude\"]\n",
    "yn2 = weather_north_df[\"Humidity (%)\"].astype(int)\n",
    "\n",
    "#calculate regression\n",
    "(slope_n2, intercept_n2, rvalue_n2, pvalue_n2, stderr_n2) = linregress(xn2, yn2)\n",
    "regress_n2 = xn2 * slope_n2 + intercept_n2\n",
    "line_eq_n2 = \"y=\" + str(round(slope_n2,2)) + \"x + \" + str(round(intercept_n2,2))\n",
    "print(line_eq_n2)"
   ]
  },
  {
   "cell_type": "code",
   "execution_count": 36,
   "metadata": {},
   "outputs": [
    {
     "name": "stdout",
     "output_type": "stream",
     "text": [
      "y=0.29x + 76.19\n"
     ]
    }
   ],
   "source": [
    "xs2 = weather_south_df[\"Latitude\"]\n",
    "ys2 = weather_south_df[\"Humidity (%)\"].astype(int)\n",
    "\n",
    "#calculate regression\n",
    "(slope_s2, intercept_s2, rvalue_s2, pvalue_s2, stderr_s2) = linregress(xs2, ys2)\n",
    "regress_s2 = xs2 * slope_s2 + intercept_s2\n",
    "line_eq_s2 = \"y=\" + str(round(slope_s2,2)) + \"x + \" + str(round(intercept_s2,2))\n",
    "print(line_eq_s2)"
   ]
  },
  {
   "cell_type": "code",
   "execution_count": 37,
   "metadata": {},
   "outputs": [
    {
     "data": {
      "image/png": "[encoded data removed]",
      "text/plain": [
       "<Figure size 864x432 with 2 Axes>"
      ]
     },
     "metadata": {
      "needs_background": "light"
     },
     "output_type": "display_data"
    }
   ],
   "source": [
    "fig, (ax1, ax2) = plt.subplots(1, 2, sharey=True, figsize=(12,6))\n",
    "fig.suptitle('Humidity vs Latitude in the Southern and Northern Hemispheres')\n",
    "ax1.scatter(xs2, ys2)\n",
    "ax1.set_xlim(left=-90, right=0)\n",
    "ax1.set_title(\"Southern Hemisphere\")\n",
    "ax1.set(xlabel= \"Degree of Latitude\", ylabel=\"Humidity (%)\")\n",
    "ax1.plot(xs2, regress_s2, color='red', linewidth=2)\n",
    "ax1.annotate(line_eq_s2, (-60,40), fontsize=15, color=\"red\")\n",
    "ax2.scatter(xn2, yn2)\n",
    "ax2.set_xlim(left=0, right=90)\n",
    "ax2.set_title(\"Northern Hemisphere\")\n",
    "ax2.set(xlabel= \"Degree of Latitude\", ylabel=\"Humidity (%)\")\n",
    "ax2.plot(xn2, regress_n2, color=\"red\", linewidth=2)\n",
    "ax2.annotate(line_eq_n2, (40,40), fontsize=15, color=\"red\")\n",
    "plt.show()"
   ]
  },
  {
   "cell_type": "code",
   "execution_count": 38,
   "metadata": {},
   "outputs": [
    {
     "name": "stdout",
     "output_type": "stream",
     "text": [
      "The r-value of the southern hemisphere is 0.27503 and the r-value of the northern hemisphere is 0.59204.\n"
     ]
    }
   ],
   "source": [
    "print(f'The r-value of the southern hemisphere is {round(rvalue_s2,5)} and the r-value of the northern hemisphere is {round(rvalue_n2,5)}.')"
   ]
  },
  {
   "cell_type": "code",
   "execution_count": 39,
   "metadata": {},
   "outputs": [
    {
     "name": "stdout",
     "output_type": "stream",
     "text": [
      "y=0.35x + 57.16\n"
     ]
    }
   ],
   "source": [
    "# Northern Hemisphere - Cloudiness (%) vs. Latitude\n",
    "# Southern Hemisphere - Cloudiness (%) vs. Latitude\n",
    "\n",
    "# define values for northern hemisphere\n",
    "xn3 = weather_north_df[\"Latitude\"]\n",
    "yn3 = weather_north_df[\"Cloudiness\"].astype(int)\n",
    "\n",
    "#calculate regression\n",
    "(slope_n3, intercept_n3, rvalue_n3, pvalue_n3, stderr_n3) = linregress(xn3, yn3)\n",
    "regress_n3 = xn3 * slope_n3 + intercept_n3\n",
    "line_eq_n3 = \"y=\" + str(round(slope_n3,2)) + \"x + \" + str(round(intercept_n3,2))\n",
    "print(line_eq_n3)"
   ]
  },
  {
   "cell_type": "code",
   "execution_count": 40,
   "metadata": {},
   "outputs": [
    {
     "name": "stdout",
     "output_type": "stream",
     "text": [
      "y=0.42x + 72.9\n"
     ]
    }
   ],
   "source": [
    "#define values for southern hemisphere\n",
    "xs3 = weather_south_df[\"Latitude\"]\n",
    "ys3 = weather_south_df[\"Cloudiness\"].astype(int)\n",
    "\n",
    "#calculate regression\n",
    "(slope_s3, intercept_s3, rvalue_s3, pvalue_s3, stderr_s3) = linregress(xs3, ys3)\n",
    "regress_s3 = xs3 * slope_s3 + intercept_s3\n",
    "line_eq_s3 = \"y=\" + str(round(slope_s3,2)) + \"x + \" + str(round(intercept_s3,2))\n",
    "print(line_eq_s3)"
   ]
  },
  {
   "cell_type": "code",
   "execution_count": 41,
   "metadata": {},
   "outputs": [
    {
     "data": {
      "image/png": "[encoded data removed]",
      "text/plain": [
       "<Figure size 864x432 with 2 Axes>"
      ]
     },
     "metadata": {
      "needs_background": "light"
     },
     "output_type": "display_data"
    }
   ],
   "source": [
    "fig, (ax1, ax2) = plt.subplots(1, 2, sharey=True, figsize=(12,6))\n",
    "fig.suptitle('Cloud Cover vs Latitude in the Southern and Northern Hemispheres')\n",
    "ax1.scatter(xs3, ys3)\n",
    "ax1.set_xlim(left=-90, right=0)\n",
    "ax1.set_title(\"Southern Hemisphere\")\n",
    "ax1.set(xlabel= \"Degree of Latitude\", ylabel=\"Cloudiness\")\n",
    "ax1.plot(xs3, regress_s3, color='red', linewidth=2)\n",
    "ax1.annotate(line_eq_s3, (-80,60), fontsize=15, color=\"red\")\n",
    "ax2.scatter(xn3, yn3)\n",
    "ax2.set_xlim(left=0, right=90)\n",
    "ax2.set_title(\"Northern Hemisphere\")\n",
    "ax2.set(xlabel= \"Degree of Latitude\", ylabel=\"Cloudiness\")\n",
    "ax2.plot(xn3, regress_n3, color=\"red\", linewidth=2)\n",
    "ax2.annotate(line_eq_n3, (40,20), fontsize=15, color=\"red\")\n",
    "plt.show()"
   ]
  },
  {
   "cell_type": "code",
   "execution_count": 42,
   "metadata": {},
   "outputs": [
    {
     "name": "stdout",
     "output_type": "stream",
     "text": [
      "The r-value of the southern hemisphere is 0.20182 and the r-value of the northern hemisphere is 0.1878.\n"
     ]
    }
   ],
   "source": [
    "print(f'The r-value of the southern hemisphere is {round(rvalue_s3,5)} and the r-value of the northern hemisphere is {round(rvalue_n3,5)}.')"
   ]
  },
  {
   "cell_type": "code",
   "execution_count": 43,
   "metadata": {},
   "outputs": [
    {
     "name": "stdout",
     "output_type": "stream",
     "text": [
      "y=-0.11x + 12.96\n"
     ]
    }
   ],
   "source": [
    "# Northern Hemisphere - Wind Speed (mph) vs. Latitude\n",
    "# Southern Hemisphere - Wind Speed (mph) vs. Latitude\n",
    "\n",
    "# define values for northern hemisphere\n",
    "xn4 = weather_north_df[\"Latitude\"]\n",
    "yn4 = weather_north_df[\"Wind Speed (mph)\"]\n",
    "\n",
    "#calculate regression\n",
    "(slope_n4, intercept_n4, rvalue_n4, pvalue_n4, stderr_n4) = linregress(xn4, yn4)\n",
    "regress_n4 = xn4 * slope_n4 + intercept_n4\n",
    "line_eq_n4 = \"y=\" + str(round(slope_n4,2)) + \"x + \" + str(round(intercept_n4,2))\n",
    "print(line_eq_n4)"
   ]
  },
  {
   "cell_type": "code",
   "execution_count": 44,
   "metadata": {},
   "outputs": [
    {
     "name": "stdout",
     "output_type": "stream",
     "text": [
      "y=0.46x + 83.51\n"
     ]
    }
   ],
   "source": [
    "#define values for southern hemisphere\n",
    "xs4 = weather_south_df[\"Latitude\"]\n",
    "ys4 = weather_south_df[\"Max Temperature (F)\"]\n",
    "\n",
    "#calculate regression\n",
    "(slope_s4, intercept_s4, rvalue_s4, pvalue_s4, stderr_s4) = linregress(xs4, ys4)\n",
    "regress_s4 = xs4 * slope_s4 + intercept_s4\n",
    "line_eq_s4 = \"y=\" + str(round(slope_s4,2)) + \"x + \" + str(round(intercept_s4,2))\n",
    "print(line_eq_s4)"
   ]
  },
  {
   "cell_type": "code",
   "execution_count": 46,
   "metadata": {},
   "outputs": [
    {
     "data": {
      "image/png": "[encoded data removed]",
      "text/plain": [
       "<Figure size 864x432 with 2 Axes>"
      ]
     },
     "metadata": {
      "needs_background": "light"
     },
     "output_type": "display_data"
    }
   ],
   "source": [
    "fig, (ax1, ax2) = plt.subplots(1, 2, sharey=True, figsize=(12,6))\n",
    "fig.suptitle('Wind Speed vs Latitude in the Southern and Northern Hemispheres')\n",
    "ax1.scatter(xs4, ys4)\n",
    "ax1.set_xlim(left=-90, right=0)\n",
    "ax1.set_title(\"Southern Hemisphere\")\n",
    "ax1.set(xlabel=\"Degree of Latitude\", ylabel=\"Wind Speed (mph)\")\n",
    "ax1.plot(xs4, regress_s4, color='red', linewidth=2)\n",
    "ax1.annotate(line_eq_s4, (-60,40), fontsize=15, color=\"red\")\n",
    "ax2.scatter(xn4, yn4)\n",
    "ax2.set_xlim(left=0, right=90)\n",
    "ax2.set_title(\"Northern Hemisphere\")\n",
    "ax2.set(xlabel= \"Degree of Latitude\", ylabel=\"Wind Speed (mph)\")\n",
    "ax2.plot(xn4, regress_n4, color=\"red\", linewidth=2)\n",
    "ax2.annotate(line_eq_n4, (10,0), fontsize=15, color=\"red\")\n",
    "plt.show()"
   ]
  },
  {
   "cell_type": "code",
   "execution_count": 45,
   "metadata": {},
   "outputs": [
    {
     "name": "stdout",
     "output_type": "stream",
     "text": [
      "The r-value of the southern hemisphere is 0.73068 and the r-value of the northern hemisphere is -0.55746.\n"
     ]
    }
   ],
   "source": [
    "print(f'The r-value of the southern hemisphere is {round(rvalue_s4,5)} and the r-value of the northern hemisphere is {round(rvalue_n4,5)}.')"
   ]
  },
  {
   "cell_type": "code",
   "execution_count": null,
   "metadata": {},
   "outputs": [],
   "source": [
    "# After each pair of plots, take the time to explain what the linear regression is modeling. \n",
    "# For example, describe any relationships you notice and any other analysis you may have."
   ]
  }
 ],
 "metadata": {
  "kernelspec": {
   "display_name": "Python 3",
   "language": "python",
   "name": "python3"
  },
  "language_info": {
   "codemirror_mode": {
    "name": "ipython",
    "version": 3
   },
   "file_extension": ".py",
   "mimetype": "text/x-python",
   "name": "python",
   "nbconvert_exporter": "python",
   "pygments_lexer": "ipython3",
   "version": "3.6.10"
  }
 },
 "nbformat": 4,
 "nbformat_minor": 4
}
